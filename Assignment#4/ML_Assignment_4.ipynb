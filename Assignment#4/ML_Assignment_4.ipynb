{
  "nbformat": 4,
  "nbformat_minor": 0,
  "metadata": {
    "colab": {
      "name": "ML_Assignment#4.ipynb",
      "provenance": [],
      "collapsed_sections": [],
      "authorship_tag": "ABX9TyMOj+V/aBYui3At4A4f+oSq",
      "include_colab_link": true
    },
    "kernelspec": {
      "name": "python3",
      "display_name": "Python 3"
    },
    "language_info": {
      "name": "python"
    }
  },
  "cells": [
    {
      "cell_type": "markdown",
      "metadata": {
        "id": "view-in-github",
        "colab_type": "text"
      },
      "source": [
        "<a href=\"https://colab.research.google.com/github/NishaMDev/ML-Learning/blob/main/Assignment%234/ML_Assignment_4.ipynb\" target=\"_parent\"><img src=\"https://colab.research.google.com/assets/colab-badge.svg\" alt=\"Open In Colab\"/></a>"
      ]
    },
    {
      "cell_type": "code",
      "execution_count": null,
      "metadata": {
        "id": "GgPwqR88t5bk"
      },
      "outputs": [],
      "source": [
        "import pandas as pd\n",
        "import numpy as np\n",
        "\n",
        "import matplotlib.pyplot as plt\n",
        "import plotly.express as px\n",
        "import plotly.graph_objects as go\n",
        "import seaborn as sns\n",
        "\n",
        "from sklearn.pipeline import Pipeline\n",
        "from sklearn.preprocessing import StandardScaler, OneHotEncoder , MinMaxScaler , LabelEncoder\n",
        "from sklearn.compose import  ColumnTransformer\n",
        "from sklearn.linear_model import LogisticRegression\n",
        "from sklearn.model_selection import train_test_split, GridSearchCV\n",
        "\n",
        "from sklearn.neural_network import MLPRegressor\n",
        "from sklearn.linear_model import LinearRegression\n",
        "from sklearn.ensemble import RandomForestRegressor, AdaBoostRegressor\n",
        "from sklearn.neighbors import KNeighborsRegressor\n",
        "import xgboost as xgb\n",
        "from sklearn.linear_model import LogisticRegression\n",
        "from sklearn.model_selection import KFold, StratifiedKFold, cross_val_score\n",
        "\n",
        "from sklearn import linear_model, tree, ensemble\n",
        "from sklearn.naive_bayes import GaussianNB\n",
        "import xgboost\n",
        "from xgboost import XGBClassifier\n",
        "from sklearn.neighbors import KNeighborsClassifier\n",
        "from sklearn.tree import DecisionTreeClassifier\n",
        "from sklearn.linear_model import LogisticRegression\n",
        "from sklearn.ensemble import VotingClassifier\n",
        "\n",
        "from sklearn.metrics import accuracy_score, confusion_matrix, ConfusionMatrixDisplay, classification_report\n",
        "import time"
      ]
    },
    {
      "cell_type": "code",
      "source": [
        "#EVENT_FILE_PATH = \"/content/drive/My Drive/ML_DataSet/events.csv\"\n",
        "#GINFO_FILE_PATH = \"/content/drive/My Drive/ML_DataSet/ginf.csv\"\n",
        "game_url_2018_2019 =\"https://datahub.io/sports-data/english-premier-league/r/0.csv\"\n",
        "game_url_2017_2018 = \"https://datahub.io/sports-data/english-premier-league/r/1.csv\"\n",
        "game_url_2016_2017 = \"https://datahub.io/sports-data/english-premier-league/r/2.csv\"\n",
        "game_url_2015_2016 = \"https://datahub.io/sports-data/english-premier-league/r/3.csv\"\n",
        "game_url_2014_2015 = \"https://datahub.io/sports-data/english-premier-league/r/4.csv\"\n",
        "game_url_2013_2014 = \"https://datahub.io/sports-data/english-premier-league/r/5.csv\"\n",
        "game_url_2012_2013 = \"https://datahub.io/sports-data/english-premier-league/r/6.csv\"\n",
        "game_url_2011_2012 = \"https://datahub.io/sports-data/english-premier-league/r/7.csv\"\n",
        "game_url_2010_2011 = \"https://datahub.io/sports-data/english-premier-league/r/8.csv\"\n",
        "game_url_2009_2010 = \"https://datahub.io/sports-data/english-premier-league/r/9.csv\"\n",
        "#DICT_FILE_PATH = \"/content/drive/My Drive/ML_DataSet/dictionary.txt\""
      ],
      "metadata": {
        "id": "KfGj3KXUt9DI"
      },
      "execution_count": null,
      "outputs": []
    },
    {
      "cell_type": "code",
      "source": [
        "data1 = pd.read_csv(game_url_2018_2019) \n",
        "data2 = pd.read_csv(game_url_2017_2018)\n",
        "data3 = pd.read_csv(game_url_2016_2017)\n",
        "data4 = pd.read_csv(game_url_2015_2016)\n",
        "data5 = pd.read_csv(game_url_2014_2015)\n",
        "data6 = pd.read_csv(game_url_2013_2014)\n",
        "data7 = pd.read_csv(game_url_2012_2013)\n",
        "data8 = pd.read_csv(game_url_2011_2012)\n",
        "data9 = pd.read_csv(game_url_2010_2011)\n",
        "data10 = pd.read_csv(game_url_2009_2010)\n",
        "\n",
        "frames = [data1,data2,data3,data4,data5,data6,data7,data8,data9,data10]\n",
        "data = pd.concat(frames,ignore_index=True)\n",
        "data.head(10)"
      ],
      "metadata": {
        "colab": {
          "base_uri": "https://localhost:8080/",
          "height": 514
        },
        "id": "sOYCpkMet_g5",
        "outputId": "c8bb5755-15cb-4822-bec3-3c2faa7b7cbf"
      },
      "execution_count": null,
      "outputs": [
        {
          "output_type": "execute_result",
          "data": {
            "text/html": [
              "\n",
              "  <div id=\"df-a5847c42-4a39-4004-97ae-ed22d190903e\">\n",
              "    <div class=\"colab-df-container\">\n",
              "      <div>\n",
              "<style scoped>\n",
              "    .dataframe tbody tr th:only-of-type {\n",
              "        vertical-align: middle;\n",
              "    }\n",
              "\n",
              "    .dataframe tbody tr th {\n",
              "        vertical-align: top;\n",
              "    }\n",
              "\n",
              "    .dataframe thead th {\n",
              "        text-align: right;\n",
              "    }\n",
              "</style>\n",
              "<table border=\"1\" class=\"dataframe\">\n",
              "  <thead>\n",
              "    <tr style=\"text-align: right;\">\n",
              "      <th></th>\n",
              "      <th>Div</th>\n",
              "      <th>Date</th>\n",
              "      <th>HomeTeam</th>\n",
              "      <th>AwayTeam</th>\n",
              "      <th>FTHG</th>\n",
              "      <th>FTAG</th>\n",
              "      <th>FTR</th>\n",
              "      <th>HTHG</th>\n",
              "      <th>HTAG</th>\n",
              "      <th>HTR</th>\n",
              "      <th>Referee</th>\n",
              "      <th>HS</th>\n",
              "      <th>AS</th>\n",
              "      <th>HST</th>\n",
              "      <th>AST</th>\n",
              "      <th>HF</th>\n",
              "      <th>AF</th>\n",
              "      <th>HC</th>\n",
              "      <th>AC</th>\n",
              "      <th>HY</th>\n",
              "      <th>AY</th>\n",
              "      <th>HR</th>\n",
              "      <th>AR</th>\n",
              "      <th>B365H</th>\n",
              "      <th>B365D</th>\n",
              "      <th>B365A</th>\n",
              "      <th>BWH</th>\n",
              "      <th>BWD</th>\n",
              "      <th>BWA</th>\n",
              "      <th>IWH</th>\n",
              "      <th>IWD</th>\n",
              "      <th>IWA</th>\n",
              "      <th>PSH</th>\n",
              "      <th>PSD</th>\n",
              "      <th>PSA</th>\n",
              "      <th>WHH</th>\n",
              "      <th>WHD</th>\n",
              "      <th>WHA</th>\n",
              "      <th>VCH</th>\n",
              "      <th>VCD</th>\n",
              "      <th>VCA</th>\n",
              "      <th>Bb1X2</th>\n",
              "      <th>BbMxH</th>\n",
              "      <th>BbAvH</th>\n",
              "      <th>BbMxD</th>\n",
              "      <th>BbAvD</th>\n",
              "      <th>BbMxA</th>\n",
              "      <th>BbAvA</th>\n",
              "      <th>BbOU</th>\n",
              "      <th>BbMx&gt;2.5</th>\n",
              "      <th>BbAv&gt;2.5</th>\n",
              "      <th>BbMx&lt;2.5</th>\n",
              "      <th>BbAv&lt;2.5</th>\n",
              "      <th>BbAH</th>\n",
              "      <th>BbAHh</th>\n",
              "      <th>BbMxAHH</th>\n",
              "      <th>BbAvAHH</th>\n",
              "      <th>BbMxAHA</th>\n",
              "      <th>BbAvAHA</th>\n",
              "      <th>PSCH</th>\n",
              "      <th>PSCD</th>\n",
              "      <th>PSCA</th>\n",
              "      <th>LBH</th>\n",
              "      <th>LBD</th>\n",
              "      <th>LBA</th>\n",
              "      <th>SJH</th>\n",
              "      <th>SJD</th>\n",
              "      <th>SJA</th>\n",
              "      <th>GBH</th>\n",
              "      <th>GBD</th>\n",
              "      <th>GBA</th>\n",
              "      <th>BSH</th>\n",
              "      <th>BSD</th>\n",
              "      <th>BSA</th>\n",
              "      <th>SBH</th>\n",
              "      <th>SBD</th>\n",
              "      <th>SBA</th>\n",
              "    </tr>\n",
              "  </thead>\n",
              "  <tbody>\n",
              "    <tr>\n",
              "      <th>0</th>\n",
              "      <td>E0</td>\n",
              "      <td>10/08/2018</td>\n",
              "      <td>Man United</td>\n",
              "      <td>Leicester</td>\n",
              "      <td>2</td>\n",
              "      <td>1</td>\n",
              "      <td>H</td>\n",
              "      <td>1</td>\n",
              "      <td>0</td>\n",
              "      <td>H</td>\n",
              "      <td>A Marriner</td>\n",
              "      <td>8</td>\n",
              "      <td>13</td>\n",
              "      <td>6</td>\n",
              "      <td>4</td>\n",
              "      <td>11</td>\n",
              "      <td>8</td>\n",
              "      <td>2</td>\n",
              "      <td>5</td>\n",
              "      <td>2</td>\n",
              "      <td>1</td>\n",
              "      <td>0</td>\n",
              "      <td>0</td>\n",
              "      <td>1.57</td>\n",
              "      <td>3.9</td>\n",
              "      <td>7.50</td>\n",
              "      <td>1.53</td>\n",
              "      <td>4.00</td>\n",
              "      <td>7.50</td>\n",
              "      <td>1.55</td>\n",
              "      <td>3.80</td>\n",
              "      <td>7.00</td>\n",
              "      <td>1.58</td>\n",
              "      <td>3.93</td>\n",
              "      <td>7.50</td>\n",
              "      <td>1.57</td>\n",
              "      <td>3.80</td>\n",
              "      <td>6.00</td>\n",
              "      <td>1.57</td>\n",
              "      <td>4.0</td>\n",
              "      <td>7.00</td>\n",
              "      <td>39</td>\n",
              "      <td>1.60</td>\n",
              "      <td>1.56</td>\n",
              "      <td>4.20</td>\n",
              "      <td>3.92</td>\n",
              "      <td>8.05</td>\n",
              "      <td>7.06</td>\n",
              "      <td>38</td>\n",
              "      <td>2.12</td>\n",
              "      <td>2.03</td>\n",
              "      <td>1.85</td>\n",
              "      <td>1.79</td>\n",
              "      <td>17.0</td>\n",
              "      <td>-0.75</td>\n",
              "      <td>1.75</td>\n",
              "      <td>1.70</td>\n",
              "      <td>2.29</td>\n",
              "      <td>2.21</td>\n",
              "      <td>1.55</td>\n",
              "      <td>4.07</td>\n",
              "      <td>7.69</td>\n",
              "      <td>NaN</td>\n",
              "      <td>NaN</td>\n",
              "      <td>NaN</td>\n",
              "      <td>NaN</td>\n",
              "      <td>NaN</td>\n",
              "      <td>NaN</td>\n",
              "      <td>NaN</td>\n",
              "      <td>NaN</td>\n",
              "      <td>NaN</td>\n",
              "      <td>NaN</td>\n",
              "      <td>NaN</td>\n",
              "      <td>NaN</td>\n",
              "      <td>NaN</td>\n",
              "      <td>NaN</td>\n",
              "      <td>NaN</td>\n",
              "    </tr>\n",
              "    <tr>\n",
              "      <th>1</th>\n",
              "      <td>E0</td>\n",
              "      <td>11/08/2018</td>\n",
              "      <td>Bournemouth</td>\n",
              "      <td>Cardiff</td>\n",
              "      <td>2</td>\n",
              "      <td>0</td>\n",
              "      <td>H</td>\n",
              "      <td>1</td>\n",
              "      <td>0</td>\n",
              "      <td>H</td>\n",
              "      <td>K Friend</td>\n",
              "      <td>12</td>\n",
              "      <td>10</td>\n",
              "      <td>4</td>\n",
              "      <td>1</td>\n",
              "      <td>11</td>\n",
              "      <td>9</td>\n",
              "      <td>7</td>\n",
              "      <td>4</td>\n",
              "      <td>1</td>\n",
              "      <td>1</td>\n",
              "      <td>0</td>\n",
              "      <td>0</td>\n",
              "      <td>1.90</td>\n",
              "      <td>3.6</td>\n",
              "      <td>4.50</td>\n",
              "      <td>1.90</td>\n",
              "      <td>3.40</td>\n",
              "      <td>4.40</td>\n",
              "      <td>1.90</td>\n",
              "      <td>3.50</td>\n",
              "      <td>4.10</td>\n",
              "      <td>1.89</td>\n",
              "      <td>3.63</td>\n",
              "      <td>4.58</td>\n",
              "      <td>1.91</td>\n",
              "      <td>3.50</td>\n",
              "      <td>4.00</td>\n",
              "      <td>1.87</td>\n",
              "      <td>3.6</td>\n",
              "      <td>4.75</td>\n",
              "      <td>39</td>\n",
              "      <td>1.93</td>\n",
              "      <td>1.88</td>\n",
              "      <td>3.71</td>\n",
              "      <td>3.53</td>\n",
              "      <td>4.75</td>\n",
              "      <td>4.37</td>\n",
              "      <td>38</td>\n",
              "      <td>2.05</td>\n",
              "      <td>1.98</td>\n",
              "      <td>1.92</td>\n",
              "      <td>1.83</td>\n",
              "      <td>20.0</td>\n",
              "      <td>-0.75</td>\n",
              "      <td>2.20</td>\n",
              "      <td>2.13</td>\n",
              "      <td>1.80</td>\n",
              "      <td>1.75</td>\n",
              "      <td>1.88</td>\n",
              "      <td>3.61</td>\n",
              "      <td>4.70</td>\n",
              "      <td>NaN</td>\n",
              "      <td>NaN</td>\n",
              "      <td>NaN</td>\n",
              "      <td>NaN</td>\n",
              "      <td>NaN</td>\n",
              "      <td>NaN</td>\n",
              "      <td>NaN</td>\n",
              "      <td>NaN</td>\n",
              "      <td>NaN</td>\n",
              "      <td>NaN</td>\n",
              "      <td>NaN</td>\n",
              "      <td>NaN</td>\n",
              "      <td>NaN</td>\n",
              "      <td>NaN</td>\n",
              "      <td>NaN</td>\n",
              "    </tr>\n",
              "    <tr>\n",
              "      <th>2</th>\n",
              "      <td>E0</td>\n",
              "      <td>11/08/2018</td>\n",
              "      <td>Fulham</td>\n",
              "      <td>Crystal Palace</td>\n",
              "      <td>0</td>\n",
              "      <td>2</td>\n",
              "      <td>A</td>\n",
              "      <td>0</td>\n",
              "      <td>1</td>\n",
              "      <td>A</td>\n",
              "      <td>M Dean</td>\n",
              "      <td>15</td>\n",
              "      <td>10</td>\n",
              "      <td>6</td>\n",
              "      <td>9</td>\n",
              "      <td>9</td>\n",
              "      <td>11</td>\n",
              "      <td>5</td>\n",
              "      <td>5</td>\n",
              "      <td>1</td>\n",
              "      <td>2</td>\n",
              "      <td>0</td>\n",
              "      <td>0</td>\n",
              "      <td>2.50</td>\n",
              "      <td>3.4</td>\n",
              "      <td>3.00</td>\n",
              "      <td>2.45</td>\n",
              "      <td>3.30</td>\n",
              "      <td>2.95</td>\n",
              "      <td>2.40</td>\n",
              "      <td>3.30</td>\n",
              "      <td>2.95</td>\n",
              "      <td>2.50</td>\n",
              "      <td>3.46</td>\n",
              "      <td>3.00</td>\n",
              "      <td>2.45</td>\n",
              "      <td>3.30</td>\n",
              "      <td>2.80</td>\n",
              "      <td>2.50</td>\n",
              "      <td>3.4</td>\n",
              "      <td>3.00</td>\n",
              "      <td>39</td>\n",
              "      <td>2.60</td>\n",
              "      <td>2.47</td>\n",
              "      <td>3.49</td>\n",
              "      <td>3.35</td>\n",
              "      <td>3.05</td>\n",
              "      <td>2.92</td>\n",
              "      <td>38</td>\n",
              "      <td>2.00</td>\n",
              "      <td>1.95</td>\n",
              "      <td>1.96</td>\n",
              "      <td>1.87</td>\n",
              "      <td>22.0</td>\n",
              "      <td>-0.25</td>\n",
              "      <td>2.18</td>\n",
              "      <td>2.11</td>\n",
              "      <td>1.81</td>\n",
              "      <td>1.77</td>\n",
              "      <td>2.62</td>\n",
              "      <td>3.38</td>\n",
              "      <td>2.90</td>\n",
              "      <td>NaN</td>\n",
              "      <td>NaN</td>\n",
              "      <td>NaN</td>\n",
              "      <td>NaN</td>\n",
              "      <td>NaN</td>\n",
              "      <td>NaN</td>\n",
              "      <td>NaN</td>\n",
              "      <td>NaN</td>\n",
              "      <td>NaN</td>\n",
              "      <td>NaN</td>\n",
              "      <td>NaN</td>\n",
              "      <td>NaN</td>\n",
              "      <td>NaN</td>\n",
              "      <td>NaN</td>\n",
              "      <td>NaN</td>\n",
              "    </tr>\n",
              "    <tr>\n",
              "      <th>3</th>\n",
              "      <td>E0</td>\n",
              "      <td>11/08/2018</td>\n",
              "      <td>Huddersfield</td>\n",
              "      <td>Chelsea</td>\n",
              "      <td>0</td>\n",
              "      <td>3</td>\n",
              "      <td>A</td>\n",
              "      <td>0</td>\n",
              "      <td>2</td>\n",
              "      <td>A</td>\n",
              "      <td>C Kavanagh</td>\n",
              "      <td>6</td>\n",
              "      <td>13</td>\n",
              "      <td>1</td>\n",
              "      <td>4</td>\n",
              "      <td>9</td>\n",
              "      <td>8</td>\n",
              "      <td>2</td>\n",
              "      <td>5</td>\n",
              "      <td>2</td>\n",
              "      <td>1</td>\n",
              "      <td>0</td>\n",
              "      <td>0</td>\n",
              "      <td>6.50</td>\n",
              "      <td>4.0</td>\n",
              "      <td>1.61</td>\n",
              "      <td>6.25</td>\n",
              "      <td>3.90</td>\n",
              "      <td>1.57</td>\n",
              "      <td>6.20</td>\n",
              "      <td>4.00</td>\n",
              "      <td>1.55</td>\n",
              "      <td>6.41</td>\n",
              "      <td>4.02</td>\n",
              "      <td>1.62</td>\n",
              "      <td>5.80</td>\n",
              "      <td>3.90</td>\n",
              "      <td>1.57</td>\n",
              "      <td>6.50</td>\n",
              "      <td>4.0</td>\n",
              "      <td>1.62</td>\n",
              "      <td>38</td>\n",
              "      <td>6.85</td>\n",
              "      <td>6.09</td>\n",
              "      <td>4.07</td>\n",
              "      <td>3.90</td>\n",
              "      <td>1.66</td>\n",
              "      <td>1.61</td>\n",
              "      <td>37</td>\n",
              "      <td>2.05</td>\n",
              "      <td>1.98</td>\n",
              "      <td>1.90</td>\n",
              "      <td>1.84</td>\n",
              "      <td>23.0</td>\n",
              "      <td>1.00</td>\n",
              "      <td>1.84</td>\n",
              "      <td>1.80</td>\n",
              "      <td>2.13</td>\n",
              "      <td>2.06</td>\n",
              "      <td>7.24</td>\n",
              "      <td>3.95</td>\n",
              "      <td>1.58</td>\n",
              "      <td>NaN</td>\n",
              "      <td>NaN</td>\n",
              "      <td>NaN</td>\n",
              "      <td>NaN</td>\n",
              "      <td>NaN</td>\n",
              "      <td>NaN</td>\n",
              "      <td>NaN</td>\n",
              "      <td>NaN</td>\n",
              "      <td>NaN</td>\n",
              "      <td>NaN</td>\n",
              "      <td>NaN</td>\n",
              "      <td>NaN</td>\n",
              "      <td>NaN</td>\n",
              "      <td>NaN</td>\n",
              "      <td>NaN</td>\n",
              "    </tr>\n",
              "    <tr>\n",
              "      <th>4</th>\n",
              "      <td>E0</td>\n",
              "      <td>11/08/2018</td>\n",
              "      <td>Newcastle</td>\n",
              "      <td>Tottenham</td>\n",
              "      <td>1</td>\n",
              "      <td>2</td>\n",
              "      <td>A</td>\n",
              "      <td>1</td>\n",
              "      <td>2</td>\n",
              "      <td>A</td>\n",
              "      <td>M Atkinson</td>\n",
              "      <td>15</td>\n",
              "      <td>15</td>\n",
              "      <td>2</td>\n",
              "      <td>5</td>\n",
              "      <td>11</td>\n",
              "      <td>12</td>\n",
              "      <td>3</td>\n",
              "      <td>5</td>\n",
              "      <td>2</td>\n",
              "      <td>2</td>\n",
              "      <td>0</td>\n",
              "      <td>0</td>\n",
              "      <td>3.90</td>\n",
              "      <td>3.5</td>\n",
              "      <td>2.04</td>\n",
              "      <td>3.80</td>\n",
              "      <td>3.50</td>\n",
              "      <td>2.00</td>\n",
              "      <td>3.70</td>\n",
              "      <td>3.35</td>\n",
              "      <td>2.05</td>\n",
              "      <td>3.83</td>\n",
              "      <td>3.57</td>\n",
              "      <td>2.08</td>\n",
              "      <td>3.80</td>\n",
              "      <td>3.20</td>\n",
              "      <td>2.05</td>\n",
              "      <td>3.90</td>\n",
              "      <td>3.4</td>\n",
              "      <td>2.10</td>\n",
              "      <td>39</td>\n",
              "      <td>4.01</td>\n",
              "      <td>3.83</td>\n",
              "      <td>3.57</td>\n",
              "      <td>3.40</td>\n",
              "      <td>2.12</td>\n",
              "      <td>2.05</td>\n",
              "      <td>38</td>\n",
              "      <td>2.10</td>\n",
              "      <td>2.01</td>\n",
              "      <td>1.88</td>\n",
              "      <td>1.81</td>\n",
              "      <td>20.0</td>\n",
              "      <td>0.25</td>\n",
              "      <td>2.20</td>\n",
              "      <td>2.12</td>\n",
              "      <td>1.80</td>\n",
              "      <td>1.76</td>\n",
              "      <td>4.74</td>\n",
              "      <td>3.53</td>\n",
              "      <td>1.89</td>\n",
              "      <td>NaN</td>\n",
              "      <td>NaN</td>\n",
              "      <td>NaN</td>\n",
              "      <td>NaN</td>\n",
              "      <td>NaN</td>\n",
              "      <td>NaN</td>\n",
              "      <td>NaN</td>\n",
              "      <td>NaN</td>\n",
              "      <td>NaN</td>\n",
              "      <td>NaN</td>\n",
              "      <td>NaN</td>\n",
              "      <td>NaN</td>\n",
              "      <td>NaN</td>\n",
              "      <td>NaN</td>\n",
              "      <td>NaN</td>\n",
              "    </tr>\n",
              "    <tr>\n",
              "      <th>5</th>\n",
              "      <td>E0</td>\n",
              "      <td>11/08/2018</td>\n",
              "      <td>Watford</td>\n",
              "      <td>Brighton</td>\n",
              "      <td>2</td>\n",
              "      <td>0</td>\n",
              "      <td>H</td>\n",
              "      <td>1</td>\n",
              "      <td>0</td>\n",
              "      <td>H</td>\n",
              "      <td>J Moss</td>\n",
              "      <td>19</td>\n",
              "      <td>6</td>\n",
              "      <td>5</td>\n",
              "      <td>0</td>\n",
              "      <td>10</td>\n",
              "      <td>16</td>\n",
              "      <td>8</td>\n",
              "      <td>2</td>\n",
              "      <td>2</td>\n",
              "      <td>2</td>\n",
              "      <td>0</td>\n",
              "      <td>0</td>\n",
              "      <td>2.37</td>\n",
              "      <td>3.2</td>\n",
              "      <td>3.40</td>\n",
              "      <td>2.35</td>\n",
              "      <td>3.10</td>\n",
              "      <td>3.30</td>\n",
              "      <td>2.20</td>\n",
              "      <td>3.30</td>\n",
              "      <td>3.40</td>\n",
              "      <td>2.43</td>\n",
              "      <td>3.22</td>\n",
              "      <td>3.33</td>\n",
              "      <td>2.38</td>\n",
              "      <td>3.00</td>\n",
              "      <td>3.30</td>\n",
              "      <td>2.40</td>\n",
              "      <td>3.2</td>\n",
              "      <td>3.40</td>\n",
              "      <td>39</td>\n",
              "      <td>2.48</td>\n",
              "      <td>2.36</td>\n",
              "      <td>3.30</td>\n",
              "      <td>3.14</td>\n",
              "      <td>3.42</td>\n",
              "      <td>3.31</td>\n",
              "      <td>37</td>\n",
              "      <td>2.46</td>\n",
              "      <td>2.35</td>\n",
              "      <td>1.67</td>\n",
              "      <td>1.59</td>\n",
              "      <td>22.0</td>\n",
              "      <td>-0.25</td>\n",
              "      <td>2.07</td>\n",
              "      <td>2.01</td>\n",
              "      <td>1.90</td>\n",
              "      <td>1.86</td>\n",
              "      <td>2.58</td>\n",
              "      <td>3.08</td>\n",
              "      <td>3.22</td>\n",
              "      <td>NaN</td>\n",
              "      <td>NaN</td>\n",
              "      <td>NaN</td>\n",
              "      <td>NaN</td>\n",
              "      <td>NaN</td>\n",
              "      <td>NaN</td>\n",
              "      <td>NaN</td>\n",
              "      <td>NaN</td>\n",
              "      <td>NaN</td>\n",
              "      <td>NaN</td>\n",
              "      <td>NaN</td>\n",
              "      <td>NaN</td>\n",
              "      <td>NaN</td>\n",
              "      <td>NaN</td>\n",
              "      <td>NaN</td>\n",
              "    </tr>\n",
              "    <tr>\n",
              "      <th>6</th>\n",
              "      <td>E0</td>\n",
              "      <td>11/08/2018</td>\n",
              "      <td>Wolves</td>\n",
              "      <td>Everton</td>\n",
              "      <td>2</td>\n",
              "      <td>2</td>\n",
              "      <td>D</td>\n",
              "      <td>1</td>\n",
              "      <td>1</td>\n",
              "      <td>D</td>\n",
              "      <td>C Pawson</td>\n",
              "      <td>11</td>\n",
              "      <td>6</td>\n",
              "      <td>4</td>\n",
              "      <td>5</td>\n",
              "      <td>8</td>\n",
              "      <td>7</td>\n",
              "      <td>3</td>\n",
              "      <td>6</td>\n",
              "      <td>0</td>\n",
              "      <td>1</td>\n",
              "      <td>0</td>\n",
              "      <td>1</td>\n",
              "      <td>2.37</td>\n",
              "      <td>3.3</td>\n",
              "      <td>3.30</td>\n",
              "      <td>2.35</td>\n",
              "      <td>3.20</td>\n",
              "      <td>3.20</td>\n",
              "      <td>2.25</td>\n",
              "      <td>3.35</td>\n",
              "      <td>3.20</td>\n",
              "      <td>2.36</td>\n",
              "      <td>3.40</td>\n",
              "      <td>3.28</td>\n",
              "      <td>2.30</td>\n",
              "      <td>3.20</td>\n",
              "      <td>3.20</td>\n",
              "      <td>2.38</td>\n",
              "      <td>3.3</td>\n",
              "      <td>3.30</td>\n",
              "      <td>38</td>\n",
              "      <td>2.41</td>\n",
              "      <td>2.33</td>\n",
              "      <td>3.40</td>\n",
              "      <td>3.27</td>\n",
              "      <td>3.40</td>\n",
              "      <td>3.23</td>\n",
              "      <td>36</td>\n",
              "      <td>2.20</td>\n",
              "      <td>2.09</td>\n",
              "      <td>1.83</td>\n",
              "      <td>1.75</td>\n",
              "      <td>22.0</td>\n",
              "      <td>-0.25</td>\n",
              "      <td>2.04</td>\n",
              "      <td>1.98</td>\n",
              "      <td>1.92</td>\n",
              "      <td>1.88</td>\n",
              "      <td>2.44</td>\n",
              "      <td>3.23</td>\n",
              "      <td>3.32</td>\n",
              "      <td>NaN</td>\n",
              "      <td>NaN</td>\n",
              "      <td>NaN</td>\n",
              "      <td>NaN</td>\n",
              "      <td>NaN</td>\n",
              "      <td>NaN</td>\n",
              "      <td>NaN</td>\n",
              "      <td>NaN</td>\n",
              "      <td>NaN</td>\n",
              "      <td>NaN</td>\n",
              "      <td>NaN</td>\n",
              "      <td>NaN</td>\n",
              "      <td>NaN</td>\n",
              "      <td>NaN</td>\n",
              "      <td>NaN</td>\n",
              "    </tr>\n",
              "    <tr>\n",
              "      <th>7</th>\n",
              "      <td>E0</td>\n",
              "      <td>12/08/2018</td>\n",
              "      <td>Arsenal</td>\n",
              "      <td>Man City</td>\n",
              "      <td>0</td>\n",
              "      <td>2</td>\n",
              "      <td>A</td>\n",
              "      <td>0</td>\n",
              "      <td>1</td>\n",
              "      <td>A</td>\n",
              "      <td>M Oliver</td>\n",
              "      <td>9</td>\n",
              "      <td>17</td>\n",
              "      <td>3</td>\n",
              "      <td>8</td>\n",
              "      <td>11</td>\n",
              "      <td>14</td>\n",
              "      <td>2</td>\n",
              "      <td>9</td>\n",
              "      <td>2</td>\n",
              "      <td>2</td>\n",
              "      <td>0</td>\n",
              "      <td>0</td>\n",
              "      <td>4.00</td>\n",
              "      <td>3.8</td>\n",
              "      <td>1.95</td>\n",
              "      <td>3.70</td>\n",
              "      <td>3.75</td>\n",
              "      <td>1.95</td>\n",
              "      <td>3.60</td>\n",
              "      <td>3.60</td>\n",
              "      <td>2.00</td>\n",
              "      <td>4.00</td>\n",
              "      <td>3.97</td>\n",
              "      <td>1.93</td>\n",
              "      <td>3.80</td>\n",
              "      <td>3.80</td>\n",
              "      <td>1.91</td>\n",
              "      <td>3.90</td>\n",
              "      <td>4.0</td>\n",
              "      <td>1.91</td>\n",
              "      <td>39</td>\n",
              "      <td>4.15</td>\n",
              "      <td>3.83</td>\n",
              "      <td>4.00</td>\n",
              "      <td>3.80</td>\n",
              "      <td>2.00</td>\n",
              "      <td>1.92</td>\n",
              "      <td>36</td>\n",
              "      <td>1.60</td>\n",
              "      <td>1.55</td>\n",
              "      <td>2.55</td>\n",
              "      <td>2.42</td>\n",
              "      <td>20.0</td>\n",
              "      <td>0.75</td>\n",
              "      <td>1.78</td>\n",
              "      <td>1.74</td>\n",
              "      <td>2.21</td>\n",
              "      <td>2.15</td>\n",
              "      <td>4.43</td>\n",
              "      <td>4.13</td>\n",
              "      <td>1.81</td>\n",
              "      <td>NaN</td>\n",
              "      <td>NaN</td>\n",
              "      <td>NaN</td>\n",
              "      <td>NaN</td>\n",
              "      <td>NaN</td>\n",
              "      <td>NaN</td>\n",
              "      <td>NaN</td>\n",
              "      <td>NaN</td>\n",
              "      <td>NaN</td>\n",
              "      <td>NaN</td>\n",
              "      <td>NaN</td>\n",
              "      <td>NaN</td>\n",
              "      <td>NaN</td>\n",
              "      <td>NaN</td>\n",
              "      <td>NaN</td>\n",
              "    </tr>\n",
              "    <tr>\n",
              "      <th>8</th>\n",
              "      <td>E0</td>\n",
              "      <td>12/08/2018</td>\n",
              "      <td>Liverpool</td>\n",
              "      <td>West Ham</td>\n",
              "      <td>4</td>\n",
              "      <td>0</td>\n",
              "      <td>H</td>\n",
              "      <td>2</td>\n",
              "      <td>0</td>\n",
              "      <td>H</td>\n",
              "      <td>A Taylor</td>\n",
              "      <td>18</td>\n",
              "      <td>5</td>\n",
              "      <td>8</td>\n",
              "      <td>2</td>\n",
              "      <td>14</td>\n",
              "      <td>9</td>\n",
              "      <td>5</td>\n",
              "      <td>4</td>\n",
              "      <td>1</td>\n",
              "      <td>2</td>\n",
              "      <td>0</td>\n",
              "      <td>0</td>\n",
              "      <td>1.25</td>\n",
              "      <td>6.5</td>\n",
              "      <td>14.00</td>\n",
              "      <td>1.20</td>\n",
              "      <td>6.75</td>\n",
              "      <td>14.00</td>\n",
              "      <td>1.25</td>\n",
              "      <td>6.10</td>\n",
              "      <td>11.00</td>\n",
              "      <td>1.27</td>\n",
              "      <td>6.35</td>\n",
              "      <td>13.25</td>\n",
              "      <td>1.25</td>\n",
              "      <td>5.50</td>\n",
              "      <td>12.00</td>\n",
              "      <td>1.25</td>\n",
              "      <td>6.5</td>\n",
              "      <td>13.00</td>\n",
              "      <td>38</td>\n",
              "      <td>1.29</td>\n",
              "      <td>1.25</td>\n",
              "      <td>6.79</td>\n",
              "      <td>6.22</td>\n",
              "      <td>15.00</td>\n",
              "      <td>12.30</td>\n",
              "      <td>33</td>\n",
              "      <td>1.49</td>\n",
              "      <td>1.44</td>\n",
              "      <td>2.88</td>\n",
              "      <td>2.72</td>\n",
              "      <td>21.0</td>\n",
              "      <td>-1.75</td>\n",
              "      <td>1.95</td>\n",
              "      <td>1.90</td>\n",
              "      <td>2.06</td>\n",
              "      <td>1.97</td>\n",
              "      <td>1.25</td>\n",
              "      <td>6.95</td>\n",
              "      <td>12.00</td>\n",
              "      <td>NaN</td>\n",
              "      <td>NaN</td>\n",
              "      <td>NaN</td>\n",
              "      <td>NaN</td>\n",
              "      <td>NaN</td>\n",
              "      <td>NaN</td>\n",
              "      <td>NaN</td>\n",
              "      <td>NaN</td>\n",
              "      <td>NaN</td>\n",
              "      <td>NaN</td>\n",
              "      <td>NaN</td>\n",
              "      <td>NaN</td>\n",
              "      <td>NaN</td>\n",
              "      <td>NaN</td>\n",
              "      <td>NaN</td>\n",
              "    </tr>\n",
              "    <tr>\n",
              "      <th>9</th>\n",
              "      <td>E0</td>\n",
              "      <td>12/08/2018</td>\n",
              "      <td>Southampton</td>\n",
              "      <td>Burnley</td>\n",
              "      <td>0</td>\n",
              "      <td>0</td>\n",
              "      <td>D</td>\n",
              "      <td>0</td>\n",
              "      <td>0</td>\n",
              "      <td>D</td>\n",
              "      <td>G Scott</td>\n",
              "      <td>18</td>\n",
              "      <td>16</td>\n",
              "      <td>3</td>\n",
              "      <td>6</td>\n",
              "      <td>10</td>\n",
              "      <td>9</td>\n",
              "      <td>8</td>\n",
              "      <td>5</td>\n",
              "      <td>0</td>\n",
              "      <td>1</td>\n",
              "      <td>0</td>\n",
              "      <td>0</td>\n",
              "      <td>1.85</td>\n",
              "      <td>3.5</td>\n",
              "      <td>5.00</td>\n",
              "      <td>1.80</td>\n",
              "      <td>3.50</td>\n",
              "      <td>4.75</td>\n",
              "      <td>1.80</td>\n",
              "      <td>3.60</td>\n",
              "      <td>4.50</td>\n",
              "      <td>1.86</td>\n",
              "      <td>3.51</td>\n",
              "      <td>4.99</td>\n",
              "      <td>1.83</td>\n",
              "      <td>3.25</td>\n",
              "      <td>4.80</td>\n",
              "      <td>1.85</td>\n",
              "      <td>3.4</td>\n",
              "      <td>5.20</td>\n",
              "      <td>39</td>\n",
              "      <td>1.90</td>\n",
              "      <td>1.84</td>\n",
              "      <td>3.61</td>\n",
              "      <td>3.43</td>\n",
              "      <td>5.20</td>\n",
              "      <td>4.80</td>\n",
              "      <td>37</td>\n",
              "      <td>2.45</td>\n",
              "      <td>2.34</td>\n",
              "      <td>1.67</td>\n",
              "      <td>1.60</td>\n",
              "      <td>20.0</td>\n",
              "      <td>-0.75</td>\n",
              "      <td>2.19</td>\n",
              "      <td>2.11</td>\n",
              "      <td>1.82</td>\n",
              "      <td>1.76</td>\n",
              "      <td>2.03</td>\n",
              "      <td>3.19</td>\n",
              "      <td>4.65</td>\n",
              "      <td>NaN</td>\n",
              "      <td>NaN</td>\n",
              "      <td>NaN</td>\n",
              "      <td>NaN</td>\n",
              "      <td>NaN</td>\n",
              "      <td>NaN</td>\n",
              "      <td>NaN</td>\n",
              "      <td>NaN</td>\n",
              "      <td>NaN</td>\n",
              "      <td>NaN</td>\n",
              "      <td>NaN</td>\n",
              "      <td>NaN</td>\n",
              "      <td>NaN</td>\n",
              "      <td>NaN</td>\n",
              "      <td>NaN</td>\n",
              "    </tr>\n",
              "  </tbody>\n",
              "</table>\n",
              "</div>\n",
              "      <button class=\"colab-df-convert\" onclick=\"convertToInteractive('df-a5847c42-4a39-4004-97ae-ed22d190903e')\"\n",
              "              title=\"Convert this dataframe to an interactive table.\"\n",
              "              style=\"display:none;\">\n",
              "        \n",
              "  <svg xmlns=\"http://www.w3.org/2000/svg\" height=\"24px\"viewBox=\"0 0 24 24\"\n",
              "       width=\"24px\">\n",
              "    <path d=\"M0 0h24v24H0V0z\" fill=\"none\"/>\n",
              "    <path d=\"M18.56 5.44l.94 2.06.94-2.06 2.06-.94-2.06-.94-.94-2.06-.94 2.06-2.06.94zm-11 1L8.5 8.5l.94-2.06 2.06-.94-2.06-.94L8.5 2.5l-.94 2.06-2.06.94zm10 10l.94 2.06.94-2.06 2.06-.94-2.06-.94-.94-2.06-.94 2.06-2.06.94z\"/><path d=\"M17.41 7.96l-1.37-1.37c-.4-.4-.92-.59-1.43-.59-.52 0-1.04.2-1.43.59L10.3 9.45l-7.72 7.72c-.78.78-.78 2.05 0 2.83L4 21.41c.39.39.9.59 1.41.59.51 0 1.02-.2 1.41-.59l7.78-7.78 2.81-2.81c.8-.78.8-2.07 0-2.86zM5.41 20L4 18.59l7.72-7.72 1.47 1.35L5.41 20z\"/>\n",
              "  </svg>\n",
              "      </button>\n",
              "      \n",
              "  <style>\n",
              "    .colab-df-container {\n",
              "      display:flex;\n",
              "      flex-wrap:wrap;\n",
              "      gap: 12px;\n",
              "    }\n",
              "\n",
              "    .colab-df-convert {\n",
              "      background-color: #E8F0FE;\n",
              "      border: none;\n",
              "      border-radius: 50%;\n",
              "      cursor: pointer;\n",
              "      display: none;\n",
              "      fill: #1967D2;\n",
              "      height: 32px;\n",
              "      padding: 0 0 0 0;\n",
              "      width: 32px;\n",
              "    }\n",
              "\n",
              "    .colab-df-convert:hover {\n",
              "      background-color: #E2EBFA;\n",
              "      box-shadow: 0px 1px 2px rgba(60, 64, 67, 0.3), 0px 1px 3px 1px rgba(60, 64, 67, 0.15);\n",
              "      fill: #174EA6;\n",
              "    }\n",
              "\n",
              "    [theme=dark] .colab-df-convert {\n",
              "      background-color: #3B4455;\n",
              "      fill: #D2E3FC;\n",
              "    }\n",
              "\n",
              "    [theme=dark] .colab-df-convert:hover {\n",
              "      background-color: #434B5C;\n",
              "      box-shadow: 0px 1px 3px 1px rgba(0, 0, 0, 0.15);\n",
              "      filter: drop-shadow(0px 1px 2px rgba(0, 0, 0, 0.3));\n",
              "      fill: #FFFFFF;\n",
              "    }\n",
              "  </style>\n",
              "\n",
              "      <script>\n",
              "        const buttonEl =\n",
              "          document.querySelector('#df-a5847c42-4a39-4004-97ae-ed22d190903e button.colab-df-convert');\n",
              "        buttonEl.style.display =\n",
              "          google.colab.kernel.accessAllowed ? 'block' : 'none';\n",
              "\n",
              "        async function convertToInteractive(key) {\n",
              "          const element = document.querySelector('#df-a5847c42-4a39-4004-97ae-ed22d190903e');\n",
              "          const dataTable =\n",
              "            await google.colab.kernel.invokeFunction('convertToInteractive',\n",
              "                                                     [key], {});\n",
              "          if (!dataTable) return;\n",
              "\n",
              "          const docLinkHtml = 'Like what you see? Visit the ' +\n",
              "            '<a target=\"_blank\" href=https://colab.research.google.com/notebooks/data_table.ipynb>data table notebook</a>'\n",
              "            + ' to learn more about interactive tables.';\n",
              "          element.innerHTML = '';\n",
              "          dataTable['output_type'] = 'display_data';\n",
              "          await google.colab.output.renderOutput(dataTable, element);\n",
              "          const docLink = document.createElement('div');\n",
              "          docLink.innerHTML = docLinkHtml;\n",
              "          element.appendChild(docLink);\n",
              "        }\n",
              "      </script>\n",
              "    </div>\n",
              "  </div>\n",
              "  "
            ],
            "text/plain": [
              "  Div        Date      HomeTeam        AwayTeam  FTHG  ...  BSD BSA  SBH  SBD SBA\n",
              "0  E0  10/08/2018    Man United       Leicester     2  ...  NaN NaN  NaN  NaN NaN\n",
              "1  E0  11/08/2018   Bournemouth         Cardiff     2  ...  NaN NaN  NaN  NaN NaN\n",
              "2  E0  11/08/2018        Fulham  Crystal Palace     0  ...  NaN NaN  NaN  NaN NaN\n",
              "3  E0  11/08/2018  Huddersfield         Chelsea     0  ...  NaN NaN  NaN  NaN NaN\n",
              "4  E0  11/08/2018     Newcastle       Tottenham     1  ...  NaN NaN  NaN  NaN NaN\n",
              "5  E0  11/08/2018       Watford        Brighton     2  ...  NaN NaN  NaN  NaN NaN\n",
              "6  E0  11/08/2018        Wolves         Everton     2  ...  NaN NaN  NaN  NaN NaN\n",
              "7  E0  12/08/2018       Arsenal        Man City     0  ...  NaN NaN  NaN  NaN NaN\n",
              "8  E0  12/08/2018     Liverpool        West Ham     4  ...  NaN NaN  NaN  NaN NaN\n",
              "9  E0  12/08/2018   Southampton         Burnley     0  ...  NaN NaN  NaN  NaN NaN\n",
              "\n",
              "[10 rows x 77 columns]"
            ]
          },
          "metadata": {},
          "execution_count": 3
        }
      ]
    },
    {
      "cell_type": "code",
      "source": [
        "data.index.is_unique"
      ],
      "metadata": {
        "colab": {
          "base_uri": "https://localhost:8080/"
        },
        "id": "sUigvvX-mn3K",
        "outputId": "32b5fc20-bbdc-4fbd-b7bc-ba3988c85fe6"
      },
      "execution_count": null,
      "outputs": [
        {
          "output_type": "execute_result",
          "data": {
            "text/plain": [
              "True"
            ]
          },
          "metadata": {},
          "execution_count": 4
        }
      ]
    },
    {
      "cell_type": "code",
      "source": [
        "# Check Shape of the data\n",
        "data.shape"
      ],
      "metadata": {
        "colab": {
          "base_uri": "https://localhost:8080/"
        },
        "id": "yxVaqzmkwgtM",
        "outputId": "7ecd01cf-67e1-4a2a-e071-ca8ca67b0c09"
      },
      "execution_count": null,
      "outputs": [
        {
          "output_type": "execute_result",
          "data": {
            "text/plain": [
              "(3800, 77)"
            ]
          },
          "metadata": {},
          "execution_count": 5
        }
      ]
    },
    {
      "cell_type": "code",
      "source": [
        "# Check Datatype of the Columns\n",
        "df = data[[\"FTHG\",\"FTAG\",\"FTR\",\"HTHG\",\"HTAG\",\"HTR\"]]"
      ],
      "metadata": {
        "id": "j0CEDcLvNVsN"
      },
      "execution_count": null,
      "outputs": []
    },
    {
      "cell_type": "code",
      "source": [
        "#Check for missing values\n",
        "df.isna().sum()"
      ],
      "metadata": {
        "colab": {
          "base_uri": "https://localhost:8080/"
        },
        "id": "FmsCdaxoNYk5",
        "outputId": "f4ada0d8-ad5a-4fe8-de38-473afd53ae38"
      },
      "execution_count": null,
      "outputs": [
        {
          "output_type": "execute_result",
          "data": {
            "text/plain": [
              "FTHG    0\n",
              "FTAG    0\n",
              "FTR     0\n",
              "HTHG    0\n",
              "HTAG    0\n",
              "HTR     0\n",
              "dtype: int64"
            ]
          },
          "metadata": {},
          "execution_count": 7
        }
      ]
    },
    {
      "cell_type": "code",
      "source": [
        "# Check Details for all numeric variables\n",
        "df.describe()"
      ],
      "metadata": {
        "colab": {
          "base_uri": "https://localhost:8080/",
          "height": 300
        },
        "id": "mYVFWTuhQ1PF",
        "outputId": "1b558945-af36-452e-a30e-431679b357fd"
      },
      "execution_count": null,
      "outputs": [
        {
          "output_type": "execute_result",
          "data": {
            "text/html": [
              "\n",
              "  <div id=\"df-c3fc6a80-af8c-425f-80a4-978158dc36a0\">\n",
              "    <div class=\"colab-df-container\">\n",
              "      <div>\n",
              "<style scoped>\n",
              "    .dataframe tbody tr th:only-of-type {\n",
              "        vertical-align: middle;\n",
              "    }\n",
              "\n",
              "    .dataframe tbody tr th {\n",
              "        vertical-align: top;\n",
              "    }\n",
              "\n",
              "    .dataframe thead th {\n",
              "        text-align: right;\n",
              "    }\n",
              "</style>\n",
              "<table border=\"1\" class=\"dataframe\">\n",
              "  <thead>\n",
              "    <tr style=\"text-align: right;\">\n",
              "      <th></th>\n",
              "      <th>FTHG</th>\n",
              "      <th>FTAG</th>\n",
              "      <th>HTHG</th>\n",
              "      <th>HTAG</th>\n",
              "    </tr>\n",
              "  </thead>\n",
              "  <tbody>\n",
              "    <tr>\n",
              "      <th>count</th>\n",
              "      <td>3800.000000</td>\n",
              "      <td>3800.000000</td>\n",
              "      <td>3800.000000</td>\n",
              "      <td>3800.000000</td>\n",
              "    </tr>\n",
              "    <tr>\n",
              "      <th>mean</th>\n",
              "      <td>1.570526</td>\n",
              "      <td>1.180000</td>\n",
              "      <td>0.691579</td>\n",
              "      <td>0.522368</td>\n",
              "    </tr>\n",
              "    <tr>\n",
              "      <th>std</th>\n",
              "      <td>1.322363</td>\n",
              "      <td>1.160788</td>\n",
              "      <td>0.838739</td>\n",
              "      <td>0.735319</td>\n",
              "    </tr>\n",
              "    <tr>\n",
              "      <th>min</th>\n",
              "      <td>0.000000</td>\n",
              "      <td>0.000000</td>\n",
              "      <td>0.000000</td>\n",
              "      <td>0.000000</td>\n",
              "    </tr>\n",
              "    <tr>\n",
              "      <th>25%</th>\n",
              "      <td>1.000000</td>\n",
              "      <td>0.000000</td>\n",
              "      <td>0.000000</td>\n",
              "      <td>0.000000</td>\n",
              "    </tr>\n",
              "    <tr>\n",
              "      <th>50%</th>\n",
              "      <td>1.000000</td>\n",
              "      <td>1.000000</td>\n",
              "      <td>0.000000</td>\n",
              "      <td>0.000000</td>\n",
              "    </tr>\n",
              "    <tr>\n",
              "      <th>75%</th>\n",
              "      <td>2.000000</td>\n",
              "      <td>2.000000</td>\n",
              "      <td>1.000000</td>\n",
              "      <td>1.000000</td>\n",
              "    </tr>\n",
              "    <tr>\n",
              "      <th>max</th>\n",
              "      <td>9.000000</td>\n",
              "      <td>7.000000</td>\n",
              "      <td>5.000000</td>\n",
              "      <td>5.000000</td>\n",
              "    </tr>\n",
              "  </tbody>\n",
              "</table>\n",
              "</div>\n",
              "      <button class=\"colab-df-convert\" onclick=\"convertToInteractive('df-c3fc6a80-af8c-425f-80a4-978158dc36a0')\"\n",
              "              title=\"Convert this dataframe to an interactive table.\"\n",
              "              style=\"display:none;\">\n",
              "        \n",
              "  <svg xmlns=\"http://www.w3.org/2000/svg\" height=\"24px\"viewBox=\"0 0 24 24\"\n",
              "       width=\"24px\">\n",
              "    <path d=\"M0 0h24v24H0V0z\" fill=\"none\"/>\n",
              "    <path d=\"M18.56 5.44l.94 2.06.94-2.06 2.06-.94-2.06-.94-.94-2.06-.94 2.06-2.06.94zm-11 1L8.5 8.5l.94-2.06 2.06-.94-2.06-.94L8.5 2.5l-.94 2.06-2.06.94zm10 10l.94 2.06.94-2.06 2.06-.94-2.06-.94-.94-2.06-.94 2.06-2.06.94z\"/><path d=\"M17.41 7.96l-1.37-1.37c-.4-.4-.92-.59-1.43-.59-.52 0-1.04.2-1.43.59L10.3 9.45l-7.72 7.72c-.78.78-.78 2.05 0 2.83L4 21.41c.39.39.9.59 1.41.59.51 0 1.02-.2 1.41-.59l7.78-7.78 2.81-2.81c.8-.78.8-2.07 0-2.86zM5.41 20L4 18.59l7.72-7.72 1.47 1.35L5.41 20z\"/>\n",
              "  </svg>\n",
              "      </button>\n",
              "      \n",
              "  <style>\n",
              "    .colab-df-container {\n",
              "      display:flex;\n",
              "      flex-wrap:wrap;\n",
              "      gap: 12px;\n",
              "    }\n",
              "\n",
              "    .colab-df-convert {\n",
              "      background-color: #E8F0FE;\n",
              "      border: none;\n",
              "      border-radius: 50%;\n",
              "      cursor: pointer;\n",
              "      display: none;\n",
              "      fill: #1967D2;\n",
              "      height: 32px;\n",
              "      padding: 0 0 0 0;\n",
              "      width: 32px;\n",
              "    }\n",
              "\n",
              "    .colab-df-convert:hover {\n",
              "      background-color: #E2EBFA;\n",
              "      box-shadow: 0px 1px 2px rgba(60, 64, 67, 0.3), 0px 1px 3px 1px rgba(60, 64, 67, 0.15);\n",
              "      fill: #174EA6;\n",
              "    }\n",
              "\n",
              "    [theme=dark] .colab-df-convert {\n",
              "      background-color: #3B4455;\n",
              "      fill: #D2E3FC;\n",
              "    }\n",
              "\n",
              "    [theme=dark] .colab-df-convert:hover {\n",
              "      background-color: #434B5C;\n",
              "      box-shadow: 0px 1px 3px 1px rgba(0, 0, 0, 0.15);\n",
              "      filter: drop-shadow(0px 1px 2px rgba(0, 0, 0, 0.3));\n",
              "      fill: #FFFFFF;\n",
              "    }\n",
              "  </style>\n",
              "\n",
              "      <script>\n",
              "        const buttonEl =\n",
              "          document.querySelector('#df-c3fc6a80-af8c-425f-80a4-978158dc36a0 button.colab-df-convert');\n",
              "        buttonEl.style.display =\n",
              "          google.colab.kernel.accessAllowed ? 'block' : 'none';\n",
              "\n",
              "        async function convertToInteractive(key) {\n",
              "          const element = document.querySelector('#df-c3fc6a80-af8c-425f-80a4-978158dc36a0');\n",
              "          const dataTable =\n",
              "            await google.colab.kernel.invokeFunction('convertToInteractive',\n",
              "                                                     [key], {});\n",
              "          if (!dataTable) return;\n",
              "\n",
              "          const docLinkHtml = 'Like what you see? Visit the ' +\n",
              "            '<a target=\"_blank\" href=https://colab.research.google.com/notebooks/data_table.ipynb>data table notebook</a>'\n",
              "            + ' to learn more about interactive tables.';\n",
              "          element.innerHTML = '';\n",
              "          dataTable['output_type'] = 'display_data';\n",
              "          await google.colab.output.renderOutput(dataTable, element);\n",
              "          const docLink = document.createElement('div');\n",
              "          docLink.innerHTML = docLinkHtml;\n",
              "          element.appendChild(docLink);\n",
              "        }\n",
              "      </script>\n",
              "    </div>\n",
              "  </div>\n",
              "  "
            ],
            "text/plain": [
              "              FTHG         FTAG         HTHG         HTAG\n",
              "count  3800.000000  3800.000000  3800.000000  3800.000000\n",
              "mean      1.570526     1.180000     0.691579     0.522368\n",
              "std       1.322363     1.160788     0.838739     0.735319\n",
              "min       0.000000     0.000000     0.000000     0.000000\n",
              "25%       1.000000     0.000000     0.000000     0.000000\n",
              "50%       1.000000     1.000000     0.000000     0.000000\n",
              "75%       2.000000     2.000000     1.000000     1.000000\n",
              "max       9.000000     7.000000     5.000000     5.000000"
            ]
          },
          "metadata": {},
          "execution_count": 8
        }
      ]
    },
    {
      "cell_type": "code",
      "source": [
        "## Examine the columns, look at missing data\n",
        "df.info()"
      ],
      "metadata": {
        "colab": {
          "base_uri": "https://localhost:8080/"
        },
        "id": "NzE0Vx0cWOa_",
        "outputId": "3ae88873-51fa-41fd-dd99-79e820f82880"
      },
      "execution_count": null,
      "outputs": [
        {
          "output_type": "stream",
          "name": "stdout",
          "text": [
            "<class 'pandas.core.frame.DataFrame'>\n",
            "RangeIndex: 3800 entries, 0 to 3799\n",
            "Data columns (total 6 columns):\n",
            " #   Column  Non-Null Count  Dtype \n",
            "---  ------  --------------  ----- \n",
            " 0   FTHG    3800 non-null   int64 \n",
            " 1   FTAG    3800 non-null   int64 \n",
            " 2   FTR     3800 non-null   object\n",
            " 3   HTHG    3800 non-null   int64 \n",
            " 4   HTAG    3800 non-null   int64 \n",
            " 5   HTR     3800 non-null   object\n",
            "dtypes: int64(4), object(2)\n",
            "memory usage: 178.2+ KB\n"
          ]
        }
      ]
    },
    {
      "cell_type": "code",
      "source": [
        "# Check if the Dataset is Balanced\n",
        "df[\"FTR\"].value_counts()"
      ],
      "metadata": {
        "colab": {
          "base_uri": "https://localhost:8080/"
        },
        "id": "FPrxPvmdNYhG",
        "outputId": "00549ea0-c21c-43aa-f826-c9e59baa6719"
      },
      "execution_count": null,
      "outputs": [
        {
          "output_type": "execute_result",
          "data": {
            "text/plain": [
              "H    1758\n",
              "A    1102\n",
              "D     940\n",
              "Name: FTR, dtype: int64"
            ]
          },
          "metadata": {},
          "execution_count": 10
        }
      ]
    },
    {
      "cell_type": "markdown",
      "source": [
        "We can see the Data set is nor perfectly balanced at it leans towards the “Home” a bit more."
      ],
      "metadata": {
        "id": "Xwby4d0MQ-9y"
      }
    },
    {
      "cell_type": "markdown",
      "source": [
        "# **Univariate Analysis**"
      ],
      "metadata": {
        "id": "G5vGZGvHRBQ2"
      }
    },
    {
      "cell_type": "markdown",
      "source": [
        "Counts for FTR (Full Time Result)"
      ],
      "metadata": {
        "id": "AgBD2l9bRHZC"
      }
    },
    {
      "cell_type": "code",
      "source": [
        "sns.countplot(data=df,x=\"FTR\",palette=\"winter\",)\n",
        "plt.xlabel(\"FTR\",size=15,color=\"Black\")\n",
        "plt.ylabel(\"Count\",size=15,color=\"Black\")"
      ],
      "metadata": {
        "colab": {
          "base_uri": "https://localhost:8080/",
          "height": 301
        },
        "id": "6aMUdYtRNYdz",
        "outputId": "7ffef3fc-1cfa-4d6e-e0f3-33cd798ffd24"
      },
      "execution_count": null,
      "outputs": [
        {
          "output_type": "execute_result",
          "data": {
            "text/plain": [
              "Text(0, 0.5, 'Count')"
            ]
          },
          "metadata": {},
          "execution_count": 11
        },
        {
          "output_type": "display_data",
          "data": {
            "image/png": "[encoded data removed]",
            "text/plain": [
              "<Figure size 432x288 with 1 Axes>"
            ]
          },
          "metadata": {
            "needs_background": "light"
          }
        }
      ]
    },
    {
      "cell_type": "markdown",
      "source": [
        "Observations:\n",
        "\n",
        "1. Just By looking at the Counts we can get the Understanding that the Home team has Significantly more wins.\n",
        "2. Another way of looking at is Away Team is more likely to get a Draw or a loss more often\n",
        "3. Looking at this it looks like Playing at home is a big advantage."
      ],
      "metadata": {
        "id": "AotSXpFmRPLc"
      }
    },
    {
      "cell_type": "code",
      "source": [
        "df.index"
      ],
      "metadata": {
        "colab": {
          "base_uri": "https://localhost:8080/"
        },
        "id": "oLBF8xQ5kVdz",
        "outputId": "b8471b1d-6a08-4ee2-c9cb-66e1e6ea80df"
      },
      "execution_count": null,
      "outputs": [
        {
          "output_type": "execute_result",
          "data": {
            "text/plain": [
              "RangeIndex(start=0, stop=3800, step=1)"
            ]
          },
          "metadata": {},
          "execution_count": 12
        }
      ]
    },
    {
      "cell_type": "markdown",
      "source": [
        "**Probability Density Function(PDF)**"
      ],
      "metadata": {
        "id": "kcx2Yk-4RWKF"
      }
    },
    {
      "cell_type": "code",
      "source": [
        "sns.set_style(\"whitegrid\")\n",
        "a=sns.FacetGrid(df,height=4) \\\n",
        "   .map(sns.histplot,\"FTHG\") \\\n",
        "   .add_legend()\n",
        "plt.xlim(0,6)\n",
        "plt.xlabel(\"FTHG\",size=15,color=\"Black\")\n",
        "plt.title(\"Goals Scored at FT by Home team\")\n",
        "plt.show()\n",
        "\n",
        "\n",
        "sns.set_style(\"whitegrid\")\n",
        "sns.FacetGrid(df,height=4,) \\\n",
        "   .map(sns.histplot,\"FTAG\") \\\n",
        "   .add_legend()\n",
        "plt.xlabel(\"FTAG\",size=15,color=\"Black\")\n",
        "plt.title(\"Goals Scored at FT by Away team\")\n",
        "plt.xlim(0,6)\n",
        "plt.show()"
      ],
      "metadata": {
        "colab": {
          "base_uri": "https://localhost:8080/",
          "height": 619
        },
        "id": "kyREiC5hNYZj",
        "outputId": "2a2b716c-0c41-4184-8fc2-bf90b02de9d9"
      },
      "execution_count": null,
      "outputs": [
        {
          "output_type": "display_data",
          "data": {
            "image/png": "[encoded data removed]",
            "text/plain": [
              "<Figure size 296x288 with 1 Axes>"
            ]
          },
          "metadata": {}
        },
        {
          "output_type": "display_data",
          "data": {
            "image/png": "[encoded data removed]",
            "text/plain": [
              "<Figure size 296x288 with 1 Axes>"
            ]
          },
          "metadata": {}
        }
      ]
    },
    {
      "cell_type": "markdown",
      "source": [
        "Observations:\n",
        "\n",
        "1. Most of the times, Both Home and Away Team scores 1 goal, Frequent scores are (1,0,2 in this sequence).Away team slightly ahead here.\n",
        "2. However, When it come to more than 2 goals, Home Teams are ahead."
      ],
      "metadata": {
        "id": "oQfCkXUCSFso"
      }
    },
    {
      "cell_type": "code",
      "source": [
        "sns.boxplot(data=df,x=\"FTR\",y=\"FTHG\",palette=\"inferno_r\", \\\n",
        "            meanline=True,showmeans=True,\\\n",
        "            meanprops={\"marker\":\"^\",\"markerfacecolor\":\"white\", \"markeredgecolor\":\"blue\",\"color\":\"White\"})\n",
        "plt.title(\"Result and Goals Scored by Home Team\")\n",
        "plt.xlabel(\"FTR\",size=15,color=\"Black\")\n",
        "plt.ylabel(\"FTHG\",size=15,color=\"Black\")\n",
        "plt.show()\n",
        "\n",
        "sns.boxplot(data=df,x=\"FTR\",y=\"FTAG\",palette=\"inferno\", \\\n",
        "            meanline=True,showmeans=True,\\\n",
        "            meanprops={\"marker\":\"^\",\"markerfacecolor\":\"white\", \"markeredgecolor\":\"blue\",\"color\":\"White\"})\n",
        "plt.title(\"Result and Goals Scored by Away Team\")\n",
        "plt.xlabel(\"FTR\",size=15,color=\"Black\")\n",
        "plt.ylabel(\"FTAG\",size=15,color=\"Black\")\n",
        "plt.show()"
      ],
      "metadata": {
        "colab": {
          "base_uri": "https://localhost:8080/",
          "height": 583
        },
        "id": "WDPpeIXJSS1v",
        "outputId": "d49a72b0-91e3-43cc-f4a0-e3dbc7e7de78"
      },
      "execution_count": null,
      "outputs": [
        {
          "output_type": "display_data",
          "data": {
            "image/png": "[encoded data removed]",
            "text/plain": [
              "<Figure size 432x288 with 1 Axes>"
            ]
          },
          "metadata": {}
        },
        {
          "output_type": "display_data",
          "data": {
            "image/png": "[encoded data removed]",
            "text/plain": [
              "<Figure size 432x288 with 1 Axes>"
            ]
          },
          "metadata": {}
        }
      ]
    },
    {
      "cell_type": "markdown",
      "source": [
        "***Observations:***\n",
        "\n",
        "**Home Team :**\n",
        "1. While winning score mean of 2.5 Goals.\n",
        "2. When Drawn mean is 0.9 Goals\n",
        "3. When Lost Mean is 0.5 Goals\n",
        "\n",
        "**Away Team :**\n",
        "\n",
        "1. 1.While winning score mean of 2.1 Goals.\n",
        "2. 2.When Drawn mean is 0.9 Goals.\n",
        "3. When Lost Mean is 0.6 Goals\n",
        "-> Overall Home Team is Scoring more goals, While will be a huge factor in winning the game."
      ],
      "metadata": {
        "id": "ph7l-IZMSsNa"
      }
    },
    {
      "cell_type": "markdown",
      "source": [
        "# **Bi-Variate analysis**"
      ],
      "metadata": {
        "id": "GntAEjehS13i"
      }
    },
    {
      "cell_type": "markdown",
      "source": [
        "Pair Plots"
      ],
      "metadata": {
        "id": "6bKm-XvHS55Z"
      }
    },
    {
      "cell_type": "code",
      "source": [
        "sns.pairplot(df,hue=\"FTR\")"
      ],
      "metadata": {
        "colab": {
          "base_uri": "https://localhost:8080/",
          "height": 743
        },
        "id": "xNbloN_SNYVm",
        "outputId": "4059bf51-6324-43d1-ae57-9844f7b6c1de"
      },
      "execution_count": null,
      "outputs": [
        {
          "output_type": "execute_result",
          "data": {
            "text/plain": [
              "<seaborn.axisgrid.PairGrid at 0x7f42ca1e1e50>"
            ]
          },
          "metadata": {},
          "execution_count": 15
        },
        {
          "output_type": "display_data",
          "data": {
            "image/png": "[encoded data removed]",
            "text/plain": [
              "<Figure size 763.75x720 with 20 Axes>"
            ]
          },
          "metadata": {}
        }
      ]
    },
    {
      "cell_type": "markdown",
      "source": [
        "**Observations:**\n",
        "\n",
        "FTHG and FTAG are the values which clearly indicate who will win.So studying these 2 variables can be the best way to to predict FTR.\n",
        "Whichever of the 2 has higher value that team wins, Which translate to the team which score more Goals at FT wins the match.Which is how football works."
      ],
      "metadata": {
        "id": "BVz3L_g4TARU"
      }
    },
    {
      "cell_type": "markdown",
      "source": [
        "Check If a team is Winning at Half Time does it Change at Full Time"
      ],
      "metadata": {
        "id": "iG0q37gdTF2y"
      }
    },
    {
      "cell_type": "code",
      "source": [
        "# Check If a team is Winning at HalfTime does it Change at Full Time.\n",
        "sns.countplot(data=df,x=\"HTR\",hue=\"FTR\")\n",
        "plt.legend(edgecolor=\"White\",facecolor=\"White\")\n",
        "plt.xlabel(\"HTR\",size=12,color=\"Black\")\n",
        "plt.ylabel(\"Count\",size=12,color=\"Black\")"
      ],
      "metadata": {
        "colab": {
          "base_uri": "https://localhost:8080/",
          "height": 299
        },
        "id": "wyLgiOLnTGro",
        "outputId": "100499f8-5d3b-478c-b1db-9507bd6d90f0"
      },
      "execution_count": null,
      "outputs": [
        {
          "output_type": "execute_result",
          "data": {
            "text/plain": [
              "Text(0, 0.5, 'Count')"
            ]
          },
          "metadata": {},
          "execution_count": 16
        },
        {
          "output_type": "display_data",
          "data": {
            "image/png": "[encoded data removed]",
            "text/plain": [
              "<Figure size 432x288 with 1 Axes>"
            ]
          },
          "metadata": {}
        }
      ]
    },
    {
      "cell_type": "markdown",
      "source": [
        "H : Shows the Home team leading at Half Time.\n",
        "\n",
        "A : Shows the Away team leading at Half Time.\n",
        "\n",
        "D : Shows the game was level at Half Time.\n",
        "\n",
        "1. Blue Bar shows the team went on to Win.\n",
        "2. Orange Bar shows the team went on and Drew the game.\n",
        "3. Green Bar shows the team Lost the game at Full time.\n",
        "\n",
        "**Observation:**\n",
        "\n",
        "\n",
        "1. The team Leading at Half Time almost always goes on to win the game at Full time.\n",
        "\n",
        "2. If the game is level at Half Time it is more likely Home team will win than the Away team. Although the most likely outcome is a Draw only.\n",
        "\n",
        "3. So HTR is a very important variable to determine who wins at Full time."
      ],
      "metadata": {
        "id": "NJ6PYTqtTMcd"
      }
    },
    {
      "cell_type": "markdown",
      "source": [
        "**Conclusion**:\n",
        "\n",
        "1. There is a Higher percentage of Home team winning, so clearly the team playing at Home has an advantage.\n",
        "2. Goals Scored at Full time (FTHG,FTAG) determine FTR i.e. which team will go on to win the game, team which score more Goals at FT wins the match.\n",
        "3. The Home team usually score more goals. Ex While winning Home team score mean of 2.5 Goals as compared to 2.1 Goals by Away team while winning.\n",
        "4. HTR is a very important variable to determine who wins at Full time. As we saw the Team winning at Half team does not usually end up Losing at Full time. So this Variable can effectively predict who is likely to win at full time."
      ],
      "metadata": {
        "id": "m_unxvMnTtXl"
      }
    },
    {
      "cell_type": "markdown",
      "source": [
        "One-hot encoding for dummy variables:"
      ],
      "metadata": {
        "id": "MHd3C_f8Wep1"
      }
    },
    {
      "cell_type": "code",
      "source": [
        "one_hot_encode_cols = df.dtypes[df.dtypes == object]\n",
        "one_hot_encode_cols"
      ],
      "metadata": {
        "colab": {
          "base_uri": "https://localhost:8080/"
        },
        "id": "Gpp5ta03Tpi_",
        "outputId": "363233cd-9456-491b-faed-7bfe2f54d5f4"
      },
      "execution_count": null,
      "outputs": [
        {
          "output_type": "execute_result",
          "data": {
            "text/plain": [
              "FTR    object\n",
              "HTR    object\n",
              "dtype: object"
            ]
          },
          "metadata": {},
          "execution_count": 17
        }
      ]
    },
    {
      "cell_type": "code",
      "source": [
        "# Get a Pd.Series consisting of all the string categoricals\n",
        "one_hot_encode_cols = df.dtypes[df.dtypes == object]  # filtering by string categoricals\n",
        "one_hot_encode_cols = one_hot_encode_cols.index.tolist()  # list of categorical fields\n",
        "\n",
        "df[one_hot_encode_cols].head().T"
      ],
      "metadata": {
        "colab": {
          "base_uri": "https://localhost:8080/",
          "height": 112
        },
        "id": "EHD41Qn6TpbD",
        "outputId": "359e3628-1b4b-44d7-9d50-0f63721d1d0d"
      },
      "execution_count": null,
      "outputs": [
        {
          "output_type": "execute_result",
          "data": {
            "text/html": [
              "\n",
              "  <div id=\"df-d97ec2e2-eb8b-44df-961c-5e3c5be2da90\">\n",
              "    <div class=\"colab-df-container\">\n",
              "      <div>\n",
              "<style scoped>\n",
              "    .dataframe tbody tr th:only-of-type {\n",
              "        vertical-align: middle;\n",
              "    }\n",
              "\n",
              "    .dataframe tbody tr th {\n",
              "        vertical-align: top;\n",
              "    }\n",
              "\n",
              "    .dataframe thead th {\n",
              "        text-align: right;\n",
              "    }\n",
              "</style>\n",
              "<table border=\"1\" class=\"dataframe\">\n",
              "  <thead>\n",
              "    <tr style=\"text-align: right;\">\n",
              "      <th></th>\n",
              "      <th>0</th>\n",
              "      <th>1</th>\n",
              "      <th>2</th>\n",
              "      <th>3</th>\n",
              "      <th>4</th>\n",
              "    </tr>\n",
              "  </thead>\n",
              "  <tbody>\n",
              "    <tr>\n",
              "      <th>FTR</th>\n",
              "      <td>H</td>\n",
              "      <td>H</td>\n",
              "      <td>A</td>\n",
              "      <td>A</td>\n",
              "      <td>A</td>\n",
              "    </tr>\n",
              "    <tr>\n",
              "      <th>HTR</th>\n",
              "      <td>H</td>\n",
              "      <td>H</td>\n",
              "      <td>A</td>\n",
              "      <td>A</td>\n",
              "      <td>A</td>\n",
              "    </tr>\n",
              "  </tbody>\n",
              "</table>\n",
              "</div>\n",
              "      <button class=\"colab-df-convert\" onclick=\"convertToInteractive('df-d97ec2e2-eb8b-44df-961c-5e3c5be2da90')\"\n",
              "              title=\"Convert this dataframe to an interactive table.\"\n",
              "              style=\"display:none;\">\n",
              "        \n",
              "  <svg xmlns=\"http://www.w3.org/2000/svg\" height=\"24px\"viewBox=\"0 0 24 24\"\n",
              "       width=\"24px\">\n",
              "    <path d=\"M0 0h24v24H0V0z\" fill=\"none\"/>\n",
              "    <path d=\"M18.56 5.44l.94 2.06.94-2.06 2.06-.94-2.06-.94-.94-2.06-.94 2.06-2.06.94zm-11 1L8.5 8.5l.94-2.06 2.06-.94-2.06-.94L8.5 2.5l-.94 2.06-2.06.94zm10 10l.94 2.06.94-2.06 2.06-.94-2.06-.94-.94-2.06-.94 2.06-2.06.94z\"/><path d=\"M17.41 7.96l-1.37-1.37c-.4-.4-.92-.59-1.43-.59-.52 0-1.04.2-1.43.59L10.3 9.45l-7.72 7.72c-.78.78-.78 2.05 0 2.83L4 21.41c.39.39.9.59 1.41.59.51 0 1.02-.2 1.41-.59l7.78-7.78 2.81-2.81c.8-.78.8-2.07 0-2.86zM5.41 20L4 18.59l7.72-7.72 1.47 1.35L5.41 20z\"/>\n",
              "  </svg>\n",
              "      </button>\n",
              "      \n",
              "  <style>\n",
              "    .colab-df-container {\n",
              "      display:flex;\n",
              "      flex-wrap:wrap;\n",
              "      gap: 12px;\n",
              "    }\n",
              "\n",
              "    .colab-df-convert {\n",
              "      background-color: #E8F0FE;\n",
              "      border: none;\n",
              "      border-radius: 50%;\n",
              "      cursor: pointer;\n",
              "      display: none;\n",
              "      fill: #1967D2;\n",
              "      height: 32px;\n",
              "      padding: 0 0 0 0;\n",
              "      width: 32px;\n",
              "    }\n",
              "\n",
              "    .colab-df-convert:hover {\n",
              "      background-color: #E2EBFA;\n",
              "      box-shadow: 0px 1px 2px rgba(60, 64, 67, 0.3), 0px 1px 3px 1px rgba(60, 64, 67, 0.15);\n",
              "      fill: #174EA6;\n",
              "    }\n",
              "\n",
              "    [theme=dark] .colab-df-convert {\n",
              "      background-color: #3B4455;\n",
              "      fill: #D2E3FC;\n",
              "    }\n",
              "\n",
              "    [theme=dark] .colab-df-convert:hover {\n",
              "      background-color: #434B5C;\n",
              "      box-shadow: 0px 1px 3px 1px rgba(0, 0, 0, 0.15);\n",
              "      filter: drop-shadow(0px 1px 2px rgba(0, 0, 0, 0.3));\n",
              "      fill: #FFFFFF;\n",
              "    }\n",
              "  </style>\n",
              "\n",
              "      <script>\n",
              "        const buttonEl =\n",
              "          document.querySelector('#df-d97ec2e2-eb8b-44df-961c-5e3c5be2da90 button.colab-df-convert');\n",
              "        buttonEl.style.display =\n",
              "          google.colab.kernel.accessAllowed ? 'block' : 'none';\n",
              "\n",
              "        async function convertToInteractive(key) {\n",
              "          const element = document.querySelector('#df-d97ec2e2-eb8b-44df-961c-5e3c5be2da90');\n",
              "          const dataTable =\n",
              "            await google.colab.kernel.invokeFunction('convertToInteractive',\n",
              "                                                     [key], {});\n",
              "          if (!dataTable) return;\n",
              "\n",
              "          const docLinkHtml = 'Like what you see? Visit the ' +\n",
              "            '<a target=\"_blank\" href=https://colab.research.google.com/notebooks/data_table.ipynb>data table notebook</a>'\n",
              "            + ' to learn more about interactive tables.';\n",
              "          element.innerHTML = '';\n",
              "          dataTable['output_type'] = 'display_data';\n",
              "          await google.colab.output.renderOutput(dataTable, element);\n",
              "          const docLink = document.createElement('div');\n",
              "          docLink.innerHTML = docLinkHtml;\n",
              "          element.appendChild(docLink);\n",
              "        }\n",
              "      </script>\n",
              "    </div>\n",
              "  </div>\n",
              "  "
            ],
            "text/plain": [
              "     0  1  2  3  4\n",
              "FTR  H  H  A  A  A\n",
              "HTR  H  H  A  A  A"
            ]
          },
          "metadata": {},
          "execution_count": 18
        }
      ]
    },
    {
      "cell_type": "code",
      "source": [
        "df = data[[\"FTHG\",\"FTAG\",\"FTR\",\"HTHG\",\"HTAG\",\"HTR\"]]"
      ],
      "metadata": {
        "id": "11pVR0x4c2-q"
      },
      "execution_count": null,
      "outputs": []
    },
    {
      "cell_type": "code",
      "source": [
        "df"
      ],
      "metadata": {
        "colab": {
          "base_uri": "https://localhost:8080/",
          "height": 424
        },
        "id": "4VRSXPvEhhU0",
        "outputId": "a6dac143-a23d-44ec-e50e-ffe6fea6e241"
      },
      "execution_count": null,
      "outputs": [
        {
          "output_type": "execute_result",
          "data": {
            "text/html": [
              "\n",
              "  <div id=\"df-191acbb7-6125-48d7-bb16-8c4a92f9e276\">\n",
              "    <div class=\"colab-df-container\">\n",
              "      <div>\n",
              "<style scoped>\n",
              "    .dataframe tbody tr th:only-of-type {\n",
              "        vertical-align: middle;\n",
              "    }\n",
              "\n",
              "    .dataframe tbody tr th {\n",
              "        vertical-align: top;\n",
              "    }\n",
              "\n",
              "    .dataframe thead th {\n",
              "        text-align: right;\n",
              "    }\n",
              "</style>\n",
              "<table border=\"1\" class=\"dataframe\">\n",
              "  <thead>\n",
              "    <tr style=\"text-align: right;\">\n",
              "      <th></th>\n",
              "      <th>FTHG</th>\n",
              "      <th>FTAG</th>\n",
              "      <th>FTR</th>\n",
              "      <th>HTHG</th>\n",
              "      <th>HTAG</th>\n",
              "      <th>HTR</th>\n",
              "    </tr>\n",
              "  </thead>\n",
              "  <tbody>\n",
              "    <tr>\n",
              "      <th>0</th>\n",
              "      <td>2</td>\n",
              "      <td>1</td>\n",
              "      <td>H</td>\n",
              "      <td>1</td>\n",
              "      <td>0</td>\n",
              "      <td>H</td>\n",
              "    </tr>\n",
              "    <tr>\n",
              "      <th>1</th>\n",
              "      <td>2</td>\n",
              "      <td>0</td>\n",
              "      <td>H</td>\n",
              "      <td>1</td>\n",
              "      <td>0</td>\n",
              "      <td>H</td>\n",
              "    </tr>\n",
              "    <tr>\n",
              "      <th>2</th>\n",
              "      <td>0</td>\n",
              "      <td>2</td>\n",
              "      <td>A</td>\n",
              "      <td>0</td>\n",
              "      <td>1</td>\n",
              "      <td>A</td>\n",
              "    </tr>\n",
              "    <tr>\n",
              "      <th>3</th>\n",
              "      <td>0</td>\n",
              "      <td>3</td>\n",
              "      <td>A</td>\n",
              "      <td>0</td>\n",
              "      <td>2</td>\n",
              "      <td>A</td>\n",
              "    </tr>\n",
              "    <tr>\n",
              "      <th>4</th>\n",
              "      <td>1</td>\n",
              "      <td>2</td>\n",
              "      <td>A</td>\n",
              "      <td>1</td>\n",
              "      <td>2</td>\n",
              "      <td>A</td>\n",
              "    </tr>\n",
              "    <tr>\n",
              "      <th>...</th>\n",
              "      <td>...</td>\n",
              "      <td>...</td>\n",
              "      <td>...</td>\n",
              "      <td>...</td>\n",
              "      <td>...</td>\n",
              "      <td>...</td>\n",
              "    </tr>\n",
              "    <tr>\n",
              "      <th>3795</th>\n",
              "      <td>1</td>\n",
              "      <td>0</td>\n",
              "      <td>H</td>\n",
              "      <td>0</td>\n",
              "      <td>0</td>\n",
              "      <td>D</td>\n",
              "    </tr>\n",
              "    <tr>\n",
              "      <th>3796</th>\n",
              "      <td>0</td>\n",
              "      <td>0</td>\n",
              "      <td>D</td>\n",
              "      <td>0</td>\n",
              "      <td>0</td>\n",
              "      <td>D</td>\n",
              "    </tr>\n",
              "    <tr>\n",
              "      <th>3797</th>\n",
              "      <td>4</td>\n",
              "      <td>0</td>\n",
              "      <td>H</td>\n",
              "      <td>2</td>\n",
              "      <td>0</td>\n",
              "      <td>H</td>\n",
              "    </tr>\n",
              "    <tr>\n",
              "      <th>3798</th>\n",
              "      <td>1</td>\n",
              "      <td>1</td>\n",
              "      <td>D</td>\n",
              "      <td>1</td>\n",
              "      <td>1</td>\n",
              "      <td>D</td>\n",
              "    </tr>\n",
              "    <tr>\n",
              "      <th>3799</th>\n",
              "      <td>2</td>\n",
              "      <td>1</td>\n",
              "      <td>H</td>\n",
              "      <td>1</td>\n",
              "      <td>1</td>\n",
              "      <td>D</td>\n",
              "    </tr>\n",
              "  </tbody>\n",
              "</table>\n",
              "<p>3800 rows × 6 columns</p>\n",
              "</div>\n",
              "      <button class=\"colab-df-convert\" onclick=\"convertToInteractive('df-191acbb7-6125-48d7-bb16-8c4a92f9e276')\"\n",
              "              title=\"Convert this dataframe to an interactive table.\"\n",
              "              style=\"display:none;\">\n",
              "        \n",
              "  <svg xmlns=\"http://www.w3.org/2000/svg\" height=\"24px\"viewBox=\"0 0 24 24\"\n",
              "       width=\"24px\">\n",
              "    <path d=\"M0 0h24v24H0V0z\" fill=\"none\"/>\n",
              "    <path d=\"M18.56 5.44l.94 2.06.94-2.06 2.06-.94-2.06-.94-.94-2.06-.94 2.06-2.06.94zm-11 1L8.5 8.5l.94-2.06 2.06-.94-2.06-.94L8.5 2.5l-.94 2.06-2.06.94zm10 10l.94 2.06.94-2.06 2.06-.94-2.06-.94-.94-2.06-.94 2.06-2.06.94z\"/><path d=\"M17.41 7.96l-1.37-1.37c-.4-.4-.92-.59-1.43-.59-.52 0-1.04.2-1.43.59L10.3 9.45l-7.72 7.72c-.78.78-.78 2.05 0 2.83L4 21.41c.39.39.9.59 1.41.59.51 0 1.02-.2 1.41-.59l7.78-7.78 2.81-2.81c.8-.78.8-2.07 0-2.86zM5.41 20L4 18.59l7.72-7.72 1.47 1.35L5.41 20z\"/>\n",
              "  </svg>\n",
              "      </button>\n",
              "      \n",
              "  <style>\n",
              "    .colab-df-container {\n",
              "      display:flex;\n",
              "      flex-wrap:wrap;\n",
              "      gap: 12px;\n",
              "    }\n",
              "\n",
              "    .colab-df-convert {\n",
              "      background-color: #E8F0FE;\n",
              "      border: none;\n",
              "      border-radius: 50%;\n",
              "      cursor: pointer;\n",
              "      display: none;\n",
              "      fill: #1967D2;\n",
              "      height: 32px;\n",
              "      padding: 0 0 0 0;\n",
              "      width: 32px;\n",
              "    }\n",
              "\n",
              "    .colab-df-convert:hover {\n",
              "      background-color: #E2EBFA;\n",
              "      box-shadow: 0px 1px 2px rgba(60, 64, 67, 0.3), 0px 1px 3px 1px rgba(60, 64, 67, 0.15);\n",
              "      fill: #174EA6;\n",
              "    }\n",
              "\n",
              "    [theme=dark] .colab-df-convert {\n",
              "      background-color: #3B4455;\n",
              "      fill: #D2E3FC;\n",
              "    }\n",
              "\n",
              "    [theme=dark] .colab-df-convert:hover {\n",
              "      background-color: #434B5C;\n",
              "      box-shadow: 0px 1px 3px 1px rgba(0, 0, 0, 0.15);\n",
              "      filter: drop-shadow(0px 1px 2px rgba(0, 0, 0, 0.3));\n",
              "      fill: #FFFFFF;\n",
              "    }\n",
              "  </style>\n",
              "\n",
              "      <script>\n",
              "        const buttonEl =\n",
              "          document.querySelector('#df-191acbb7-6125-48d7-bb16-8c4a92f9e276 button.colab-df-convert');\n",
              "        buttonEl.style.display =\n",
              "          google.colab.kernel.accessAllowed ? 'block' : 'none';\n",
              "\n",
              "        async function convertToInteractive(key) {\n",
              "          const element = document.querySelector('#df-191acbb7-6125-48d7-bb16-8c4a92f9e276');\n",
              "          const dataTable =\n",
              "            await google.colab.kernel.invokeFunction('convertToInteractive',\n",
              "                                                     [key], {});\n",
              "          if (!dataTable) return;\n",
              "\n",
              "          const docLinkHtml = 'Like what you see? Visit the ' +\n",
              "            '<a target=\"_blank\" href=https://colab.research.google.com/notebooks/data_table.ipynb>data table notebook</a>'\n",
              "            + ' to learn more about interactive tables.';\n",
              "          element.innerHTML = '';\n",
              "          dataTable['output_type'] = 'display_data';\n",
              "          await google.colab.output.renderOutput(dataTable, element);\n",
              "          const docLink = document.createElement('div');\n",
              "          docLink.innerHTML = docLinkHtml;\n",
              "          element.appendChild(docLink);\n",
              "        }\n",
              "      </script>\n",
              "    </div>\n",
              "  </div>\n",
              "  "
            ],
            "text/plain": [
              "      FTHG  FTAG FTR  HTHG  HTAG HTR\n",
              "0        2     1   H     1     0   H\n",
              "1        2     0   H     1     0   H\n",
              "2        0     2   A     0     1   A\n",
              "3        0     3   A     0     2   A\n",
              "4        1     2   A     1     2   A\n",
              "...    ...   ...  ..   ...   ...  ..\n",
              "3795     1     0   H     0     0   D\n",
              "3796     0     0   D     0     0   D\n",
              "3797     4     0   H     2     0   H\n",
              "3798     1     1   D     1     1   D\n",
              "3799     2     1   H     1     1   D\n",
              "\n",
              "[3800 rows x 6 columns]"
            ]
          },
          "metadata": {},
          "execution_count": 20
        }
      ]
    },
    {
      "cell_type": "code",
      "source": [
        "from sklearn.preprocessing import LabelEncoder\n",
        "\n",
        "target_labelencoder = LabelEncoder()\n",
        "\n",
        "df['label_Cat'] = target_labelencoder.fit_transform(df['FTR'])\n",
        "\n",
        "df.info"
      ],
      "metadata": {
        "colab": {
          "base_uri": "https://localhost:8080/"
        },
        "id": "3TADqPHM324r",
        "outputId": "cc02dda2-c11d-4310-ac63-bd1908b46d5a"
      },
      "execution_count": null,
      "outputs": [
        {
          "output_type": "stream",
          "name": "stderr",
          "text": [
            "/usr/local/lib/python3.7/dist-packages/ipykernel_launcher.py:5: SettingWithCopyWarning: \n",
            "A value is trying to be set on a copy of a slice from a DataFrame.\n",
            "Try using .loc[row_indexer,col_indexer] = value instead\n",
            "\n",
            "See the caveats in the documentation: https://pandas.pydata.org/pandas-docs/stable/user_guide/indexing.html#returning-a-view-versus-a-copy\n",
            "  \"\"\"\n"
          ]
        },
        {
          "output_type": "execute_result",
          "data": {
            "text/plain": [
              "<bound method DataFrame.info of       FTHG  FTAG FTR  HTHG  HTAG HTR  label_Cat\n",
              "0        2     1   H     1     0   H          2\n",
              "1        2     0   H     1     0   H          2\n",
              "2        0     2   A     0     1   A          0\n",
              "3        0     3   A     0     2   A          0\n",
              "4        1     2   A     1     2   A          0\n",
              "...    ...   ...  ..   ...   ...  ..        ...\n",
              "3795     1     0   H     0     0   D          2\n",
              "3796     0     0   D     0     0   D          1\n",
              "3797     4     0   H     2     0   H          2\n",
              "3798     1     1   D     1     1   D          1\n",
              "3799     2     1   H     1     1   D          2\n",
              "\n",
              "[3800 rows x 7 columns]>"
            ]
          },
          "metadata": {},
          "execution_count": 21
        }
      ]
    },
    {
      "cell_type": "code",
      "source": [
        "# The encoders\n",
        "\n",
        "categorical_features = [\"HTR\"]\n",
        "\n",
        "numeric_features = [\"FTHG\",\"FTAG\",\"HTHG\",\"HTAG\"]\n",
        "\n",
        "y = df['label_Cat'].values\n",
        "\n",
        "X = df[categorical_features + numeric_features]\n",
        "\n",
        "colum_transformer = ColumnTransformer([('numerical', MinMaxScaler(), numeric_features),('categorical', OneHotEncoder(), categorical_features),])\n",
        "\n",
        "X = colum_transformer.fit_transform(X)\n",
        "\n",
        "print(X)"
      ],
      "metadata": {
        "colab": {
          "base_uri": "https://localhost:8080/"
        },
        "id": "eizotlULXm3E",
        "outputId": "0bb459d3-9f41-41a0-9596-6622253a3cb8"
      },
      "execution_count": null,
      "outputs": [
        {
          "output_type": "stream",
          "name": "stdout",
          "text": [
            "[[0.22222222 0.14285714 0.2        ... 0.         0.         1.        ]\n",
            " [0.22222222 0.         0.2        ... 0.         0.         1.        ]\n",
            " [0.         0.28571429 0.         ... 1.         0.         0.        ]\n",
            " ...\n",
            " [0.44444444 0.         0.4        ... 0.         0.         1.        ]\n",
            " [0.11111111 0.14285714 0.2        ... 0.         1.         0.        ]\n",
            " [0.22222222 0.14285714 0.2        ... 0.         1.         0.        ]]\n"
          ]
        }
      ]
    },
    {
      "cell_type": "code",
      "source": [
        "X.shape"
      ],
      "metadata": {
        "colab": {
          "base_uri": "https://localhost:8080/"
        },
        "id": "LzVyVk6QfSvE",
        "outputId": "320e0194-05af-4c1f-fb31-3caf1d52a6c9"
      },
      "execution_count": null,
      "outputs": [
        {
          "output_type": "execute_result",
          "data": {
            "text/plain": [
              "(3800, 7)"
            ]
          },
          "metadata": {},
          "execution_count": 23
        }
      ]
    },
    {
      "cell_type": "code",
      "source": [
        "y.shape"
      ],
      "metadata": {
        "colab": {
          "base_uri": "https://localhost:8080/"
        },
        "id": "NgeoFvGhw0dS",
        "outputId": "20dc281c-ba62-4d9f-860e-14593ab29131"
      },
      "execution_count": null,
      "outputs": [
        {
          "output_type": "execute_result",
          "data": {
            "text/plain": [
              "(3800,)"
            ]
          },
          "metadata": {},
          "execution_count": 24
        }
      ]
    },
    {
      "cell_type": "code",
      "source": [
        "X_train, X_test, y_train, y_test = train_test_split(X, y, test_size = 0.4, random_state = 42)"
      ],
      "metadata": {
        "id": "iiLYHPhfg5vm"
      },
      "execution_count": null,
      "outputs": []
    },
    {
      "cell_type": "code",
      "source": [
        "names = [\"MLPRegressor\", \"LinearRegression\", \"RandomForestRegressor\", #\"Gaussian Process\",\n",
        "         \"KNNRegressor\", \"LogisticRegression\",\n",
        "         \"AdaBoost\"]\n",
        "\n",
        "classifiers = [\n",
        "    MLPRegressor(random_state=1, max_iter=800),\n",
        "    LinearRegression(),\n",
        "    RandomForestRegressor(max_depth=2, random_state=0),\n",
        "    KNeighborsRegressor(n_neighbors=2),\n",
        "    LogisticRegression(),\n",
        "    AdaBoostRegressor(random_state=0, n_estimators=100)]\n",
        "\n",
        "\n",
        "max_score = 0.0\n",
        "max_class = ''\n",
        "score_list = []\n",
        "clf_list = []\n",
        "\n",
        "# iterate over classifiers\n",
        "for name, clf in zip(names, classifiers):\n",
        "    start_time = time.time()\n",
        "    clf.fit(X_train, y_train)\n",
        "    score = 100.0 * clf.score(X_test, y_test)\n",
        "    score_list.append(score)\n",
        "    clf_list.append(name)\n",
        "    print('Regression  Classifier = %s, Score (test, accuracy) = %.2f,' %(name, score), 'Training time = %.2f seconds' % (time.time() - start_time))\n",
        "    \n",
        "    if score > max_score:\n",
        "        clf_best = clf\n",
        "        max_score = score\n",
        "        max_class = name\n",
        "\n",
        "print(80*'-' )\n",
        "print('Best --> Regression Classifier = %s, Score (test, accuracy) = %.2f' %(max_class, max_score))\n",
        "#plot the output of the various algorithms"
      ],
      "metadata": {
        "colab": {
          "base_uri": "https://localhost:8080/"
        },
        "id": "joeFDm3mLvqG",
        "outputId": "7a1d287b-4392-455f-c830-51ce84d542bc"
      },
      "execution_count": null,
      "outputs": [
        {
          "output_type": "stream",
          "name": "stdout",
          "text": [
            "Regression  Classifier = MLPRegressor, Score (test, accuracy) = 99.51, Training time = 1.85 seconds\n",
            "Regression  Classifier = LinearRegression, Score (test, accuracy) = 74.78, Training time = 0.00 seconds\n",
            "Regression  Classifier = RandomForestRegressor, Score (test, accuracy) = 75.75, Training time = 0.24 seconds\n",
            "Regression  Classifier = KNNRegressor, Score (test, accuracy) = 99.24, Training time = 0.01 seconds\n",
            "Regression  Classifier = LogisticRegression, Score (test, accuracy) = 96.12, Training time = 0.07 seconds\n",
            "Regression  Classifier = AdaBoost, Score (test, accuracy) = 92.79, Training time = 0.29 seconds\n",
            "--------------------------------------------------------------------------------\n",
            "Best --> Regression Classifier = MLPRegressor, Score (test, accuracy) = 99.51\n"
          ]
        }
      ]
    },
    {
      "cell_type": "code",
      "source": [
        "from IPython.core.pylabtools import figsize\n",
        "from matplotlib import figure\n",
        "\n",
        "plt.figure(figsize=(12,6))\n",
        "plt.plot(clf_list,score_list)\n",
        "plt.xlabel(\"classifier\",size=15,color=\"Black\")\n",
        "plt.ylabel(\"score\",size=15,color=\"Black\");"
      ],
      "metadata": {
        "colab": {
          "base_uri": "https://localhost:8080/",
          "height": 393
        },
        "id": "J5dvIzLODB0q",
        "outputId": "f277a1d2-fdb6-471c-a646-f889c7bcf115"
      },
      "execution_count": null,
      "outputs": [
        {
          "output_type": "display_data",
          "data": {
            "image/png": "[encoded data removed]",
            "text/plain": [
              "<Figure size 864x432 with 1 Axes>"
            ]
          },
          "metadata": {}
        }
      ]
    },
    {
      "cell_type": "markdown",
      "source": [
        "CLassification"
      ],
      "metadata": {
        "id": "K8CX9xP-c16x"
      }
    },
    {
      "cell_type": "code",
      "source": [
        "kf = StratifiedKFold(n_splits=3, shuffle=True, random_state=42)\n",
        "\n",
        "# split()  method generate indices to split data into training and test set.\n",
        "for train_index, test_index in kf.split(X, y):\n",
        "    x_train_fold, x_test_fold = X[train_index], X[test_index]\n",
        "    y_train_fold, y_test_fold = y[train_index], y[test_index]\n",
        "\n",
        "    print(\"______________________________________________________________________________________________________\")\n",
        "    score = cross_val_score(ensemble.RandomForestClassifier(random_state= 42), x_train_fold, y_train_fold, cv= kf, scoring=\"accuracy\")\n",
        "    print(f'RandomForestClassifier Scores for each fold are: {score}')\n",
        "    print(f'RandomForestClassifier Average score: {\"{:.2f}\".format(score.mean())}')\n",
        "    print(\"______________________________________________________________________________________________________\")\n",
        "\n",
        "    score = cross_val_score(GaussianNB(), x_train_fold, y_train_fold, cv= kf, scoring=\"accuracy\")\n",
        "    print(f'GaussianNB Scores for each fold are: {score}')\n",
        "    print(f'GaussianNB Average score: {\"{:.2f}\".format(score.mean())}')\n",
        "\n",
        "    print(\"______________________________________________________________________________________________________\")\n",
        "    score = cross_val_score(XGBClassifier(), x_train_fold, y_train_fold, cv= kf, scoring=\"accuracy\")\n",
        "    print(f'XGBClassifier Scores for each fold are: {score}')\n",
        "    print(f'XGBClassifier Average score: {\"{:.2f}\".format(score.mean())}')\n",
        "\n",
        "    print(\"______________________________________________________________________________________________________\")\n",
        "    score = cross_val_score(KNeighborsClassifier(n_neighbors = 5),x_train_fold, y_train_fold, cv=kf, scoring='accuracy')\n",
        "    print(f'KNeighborsClassifier Scores for each fold are: {score}')\n",
        "    print(f'KNeighborsClassifier Average score: {\"{:.2f}\".format(score.mean())}')\n",
        "\n",
        "    print(\"______________________________________________________________________________________________________\")\n",
        "    score = cross_val_score(DecisionTreeClassifier(),x_train_fold, y_train_fold, cv=kf, scoring='accuracy')\n",
        "    print(f'DecisionTreeClassifier Scores for each fold are: {score}')\n",
        "    print(f'DecisionTreeClassifier Average score: {\"{:.2f}\".format(score.mean())}')\n",
        "\n",
        "    print(\"=============================================================================================================\")\n",
        "    "
      ],
      "metadata": {
        "colab": {
          "base_uri": "https://localhost:8080/"
        },
        "id": "oOhfqaWgc3pc",
        "outputId": "d6aac024-df00-475c-9c4b-e2fd4fdb828a"
      },
      "execution_count": null,
      "outputs": [
        {
          "output_type": "stream",
          "name": "stdout",
          "text": [
            "______________________________________________________________________________________________________\n",
            "RandomForestClassifier Scores for each fold are: [0.99526627 0.99170616 0.992891  ]\n",
            "RandomForestClassifier Average score: 0.99\n",
            "______________________________________________________________________________________________________\n",
            "GaussianNB Scores for each fold are: [0.65680473 0.70734597 0.70616114]\n",
            "GaussianNB Average score: 0.69\n",
            "______________________________________________________________________________________________________\n",
            "XGBClassifier Scores for each fold are: [1.         0.99763033 0.99763033]\n",
            "XGBClassifier Average score: 1.00\n",
            "______________________________________________________________________________________________________\n",
            "KNeighborsClassifier Scores for each fold are: [0.98224852 0.97630332 0.98578199]\n",
            "KNeighborsClassifier Average score: 0.98\n",
            "______________________________________________________________________________________________________\n",
            "DecisionTreeClassifier Scores for each fold are: [1.         0.99881517 0.99881517]\n",
            "DecisionTreeClassifier Average score: 1.00\n",
            "=============================================================================================================\n",
            "______________________________________________________________________________________________________\n",
            "RandomForestClassifier Scores for each fold are: [0.99408284 0.99407583 0.99170616]\n",
            "RandomForestClassifier Average score: 0.99\n",
            "______________________________________________________________________________________________________\n",
            "GaussianNB Scores for each fold are: [0.69112426 0.66943128 0.70023697]\n",
            "GaussianNB Average score: 0.69\n",
            "______________________________________________________________________________________________________\n",
            "XGBClassifier Scores for each fold are: [0.99881657 0.99881517 0.9964455 ]\n",
            "XGBClassifier Average score: 1.00\n",
            "______________________________________________________________________________________________________\n",
            "KNeighborsClassifier Scores for each fold are: [0.98224852 0.97511848 0.97867299]\n",
            "KNeighborsClassifier Average score: 0.98\n",
            "______________________________________________________________________________________________________\n",
            "DecisionTreeClassifier Scores for each fold are: [0.99881657 0.99881517 0.99763033]\n",
            "DecisionTreeClassifier Average score: 1.00\n",
            "=============================================================================================================\n",
            "______________________________________________________________________________________________________\n",
            "RandomForestClassifier Scores for each fold are: [0.99526627 0.99763314 0.99407583]\n",
            "RandomForestClassifier Average score: 1.00\n",
            "______________________________________________________________________________________________________\n",
            "GaussianNB Scores for each fold are: [0.68994083 0.70532544 0.66706161]\n",
            "GaussianNB Average score: 0.69\n",
            "______________________________________________________________________________________________________\n",
            "XGBClassifier Scores for each fold are: [0.99881657 1.         0.9964455 ]\n",
            "XGBClassifier Average score: 1.00\n",
            "______________________________________________________________________________________________________\n",
            "KNeighborsClassifier Scores for each fold are: [0.98461538 0.98816568 0.98578199]\n",
            "KNeighborsClassifier Average score: 0.99\n",
            "______________________________________________________________________________________________________\n",
            "DecisionTreeClassifier Scores for each fold are: [0.99881657 1.         0.9964455 ]\n",
            "DecisionTreeClassifier Average score: 1.00\n",
            "=============================================================================================================\n"
          ]
        }
      ]
    },
    {
      "cell_type": "code",
      "source": [
        "from sklearn.utils.validation import check_is_fitted\n",
        "# Ensemble with basic models\n",
        "\n",
        "clf_list = [('knn', KNeighborsClassifier()),\n",
        "            ('naive bayes classifier', GaussianNB()),\n",
        "            ('random forst classifier', ensemble.RandomForestClassifier()),\n",
        "            ('XGB Classifier', XGBClassifier()),\n",
        "            ('DecisionTreeClassifier',DecisionTreeClassifier())]\n",
        "\n",
        "\n",
        "# Each model accuracy score\n",
        "for model_tuple in clf_list:\n",
        "    model = model_tuple[1]\n",
        "    if 'random_state' in model.get_params().keys():\n",
        "        model.set_params(random_state=42)\n",
        "    model.fit(X_train, y_train)\n",
        "    y_pred = model.predict(X_test)\n",
        "    acc = accuracy_score(y_pred, y_test)\n",
        "    print(f\"{model_tuple[0]}'s accuracy: {acc:.2f}\")"
      ],
      "metadata": {
        "colab": {
          "base_uri": "https://localhost:8080/"
        },
        "id": "YSxi-qrId7VR",
        "outputId": "466c87a7-4724-43f6-c836-5babce2b97ae"
      },
      "execution_count": null,
      "outputs": [
        {
          "output_type": "stream",
          "name": "stdout",
          "text": [
            "knn's accuracy: 0.99\n",
            "naive bayes classifier's accuracy: 0.68\n",
            "random forst classifier's accuracy: 0.99\n",
            "XGB Classifier's accuracy: 1.00\n",
            "DecisionTreeClassifier's accuracy: 1.00\n"
          ]
        }
      ]
    },
    {
      "cell_type": "code",
      "source": [
        "clf_list"
      ],
      "metadata": {
        "colab": {
          "base_uri": "https://localhost:8080/"
        },
        "id": "yXllfLFAgeEl",
        "outputId": "67cbb1d4-51e3-4c12-949a-e9c2308b34ac"
      },
      "execution_count": null,
      "outputs": [
        {
          "output_type": "execute_result",
          "data": {
            "text/plain": [
              "[('knn', KNeighborsClassifier()),\n",
              " ('naive bayes classifier', GaussianNB()),\n",
              " ('random forst classifier', RandomForestClassifier(random_state=42)),\n",
              " ('XGB Classifier',\n",
              "  XGBClassifier(objective='multi:softprob', random_state=42)),\n",
              " ('DecisionTreeClassifier', DecisionTreeClassifier(random_state=42))]"
            ]
          },
          "metadata": {},
          "execution_count": 30
        }
      ]
    },
    {
      "cell_type": "code",
      "source": [
        "# Gather the output of all the models and finalize one outcome depending on voting\n",
        "voting_clf = VotingClassifier(clf_list, voting='soft')\n",
        "voting_clf.fit(X_train, y_train)\n",
        "\n",
        "y_pred = voting_clf.predict(X_test)\n",
        "print(f\"Voting Classifier's accuracy: {accuracy_score(y_pred, y_test):.2f}\")"
      ],
      "metadata": {
        "colab": {
          "base_uri": "https://localhost:8080/"
        },
        "id": "Yk1J4qPKeulr",
        "outputId": "4cbf4661-db86-4829-a22e-8b362a7aa2ad"
      },
      "execution_count": null,
      "outputs": [
        {
          "output_type": "stream",
          "name": "stdout",
          "text": [
            "Voting Classifier's accuracy: 1.00\n"
          ]
        }
      ]
    },
    {
      "cell_type": "code",
      "source": [
        "# Analysing predicted result\n",
        "pred_result = classification_report(y_test, y_pred)\n",
        "print(pred_result)"
      ],
      "metadata": {
        "colab": {
          "base_uri": "https://localhost:8080/"
        },
        "id": "1SLbW9t9i-zn",
        "outputId": "7f5d7d72-6a9e-4f38-b07c-d18b1c59c1f3"
      },
      "execution_count": null,
      "outputs": [
        {
          "output_type": "stream",
          "name": "stdout",
          "text": [
            "              precision    recall  f1-score   support\n",
            "\n",
            "           0       0.99      1.00      0.99       425\n",
            "           1       1.00      0.98      0.99       370\n",
            "           2       1.00      1.00      1.00       725\n",
            "\n",
            "    accuracy                           1.00      1520\n",
            "   macro avg       1.00      0.99      0.99      1520\n",
            "weighted avg       1.00      1.00      1.00      1520\n",
            "\n"
          ]
        }
      ]
    },
    {
      "cell_type": "code",
      "source": [
        "# confusion matrix to analyse the result.\n",
        "con_matrix = confusion_matrix(y_test, y_pred, labels=voting_clf.classes_)\n",
        "figure, axes = plt.subplots(1, figsize=(15,15))\n",
        "disp = ConfusionMatrixDisplay(confusion_matrix=con_matrix, display_labels=voting_clf.classes_)\n",
        "disp.plot(ax = axes, xticks_rotation='vertical')"
      ],
      "metadata": {
        "colab": {
          "base_uri": "https://localhost:8080/",
          "height": 869
        },
        "id": "sv5fXpW-hAd0",
        "outputId": "090a4743-99ee-42f6-fb91-99972eca6219"
      },
      "execution_count": null,
      "outputs": [
        {
          "output_type": "execute_result",
          "data": {
            "text/plain": [
              "<sklearn.metrics._plot.confusion_matrix.ConfusionMatrixDisplay at 0x7f42c7b4e9d0>"
            ]
          },
          "metadata": {},
          "execution_count": 33
        },
        {
          "output_type": "display_data",
          "data": {
            "image/png": "[encoded data removed]",
            "text/plain": [
              "<Figure size 1080x1080 with 2 Axes>"
            ]
          },
          "metadata": {}
        }
      ]
    }
  ]
}